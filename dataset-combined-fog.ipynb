{
 "cells": [
  {
   "cell_type": "code",
   "execution_count": 2,
   "id": "91cf8276",
   "metadata": {},
   "outputs": [],
   "source": [
    "import os\n",
    "import shutil\n",
    "from pathlib import Path"
   ]
  },
  {
   "cell_type": "code",
   "execution_count": 19,
   "id": "031a5d36",
   "metadata": {},
   "outputs": [],
   "source": [
    "DATASETS_PATHS = [\n",
    "    Path('./datasets/fog-detection-dataset-prepared'),\n",
    "    Path('./datasets/fog-or-smog-detection-dataset-prepared'),\n",
    "    Path('./datasets/foggy-cityscapes-image-dataset-prepared')\n",
    "]\n",
    "DATASETS_PREFIXES = [\n",
    "    'fg_', 'fos_', 'fc_'\n",
    "]\n",
    "\n",
    "OUT_PATH = Path('./datasets/fog-combined')"
   ]
  },
  {
   "cell_type": "code",
   "execution_count": 20,
   "id": "dac420d6",
   "metadata": {},
   "outputs": [],
   "source": [
    "def copy_with_prefix(src, dst, prefix=\"\"):\n",
    "    src = Path(src)\n",
    "    dst = Path(dst)\n",
    "    dst = dst.with_name(\n",
    "        f\"{prefix}{dst.name}\"\n",
    "    )\n",
    "    shutil.copy2(src, dst)"
   ]
  },
  {
   "cell_type": "code",
   "execution_count": 21,
   "id": "c87d9175",
   "metadata": {},
   "outputs": [],
   "source": [
    "for dataset_path, prefix in zip(DATASETS_PATHS, DATASETS_PREFIXES):\n",
    "    for split in os.listdir(dataset_path):\n",
    "        split_path = dataset_path / split\n",
    "\n",
    "        for class_name in os.listdir(split_path):\n",
    "            shutil.copytree(\n",
    "                src=split_path / class_name,\n",
    "                dst=OUT_PATH / split / class_name,\n",
    "                dirs_exist_ok=True,\n",
    "                copy_function=lambda s, d: copy_with_prefix(s, d, prefix)\n",
    "            )"
   ]
  }
 ],
 "metadata": {
  "kernelspec": {
   "display_name": ".venv",
   "language": "python",
   "name": "python3"
  },
  "language_info": {
   "codemirror_mode": {
    "name": "ipython",
    "version": 3
   },
   "file_extension": ".py",
   "mimetype": "text/x-python",
   "name": "python",
   "nbconvert_exporter": "python",
   "pygments_lexer": "ipython3",
   "version": "3.11.11"
  }
 },
 "nbformat": 4,
 "nbformat_minor": 5
}
