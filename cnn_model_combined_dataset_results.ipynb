{
 "cells": [
  {
   "cell_type": "markdown",
   "id": "15bdd0d5",
   "metadata": {},
   "source": [
    "## ResNet18"
   ]
  },
  {
   "cell_type": "markdown",
   "id": "83c9f3a0",
   "metadata": {},
   "source": [
    "**Regular Pretrained**\n",
    "\n",
    "Training time: 469.28\n",
    "\n",
    "|     Dataset      | test_accuracy | test_f1 | test_precision | test_recall |\n",
    "|------------------|---------------|---------|----------------|-------------|\n",
    "|  fog-detection   |     0.9811    |  0.9848 |     0.9701     |     1.0     |\n",
    "|   fog-or-smog    |     0.9828    |  0.9833 |     0.9833     |    0.9833   |\n",
    "| foggy-cityscapes |     0.8939    |  0.9023 |     0.8362     |    0.9798   |\n",
    "|     combined     |     0.9596    |  0.9625 |     0.9409     |    0.9851   |\n",
    "\n",
    "**Regular no pretraining**\n",
    "\n",
    "Training time: 326.33\n",
    "\n",
    "|     Dataset      | test_accuracy | test_f1 | test_precision | test_recall |\n",
    "|------------------|---------------|---------|----------------|-------------|\n",
    "|  fog-detection   |     0.9906    |  0.9924 |     0.9848     |     1.0     |\n",
    "|   fog-or-smog    |     0.972     |  0.9724 |     0.9913     |    0.9542   |\n",
    "| foggy-cityscapes |     0.803     |  0.7869 |     0.8571     |    0.7273   |\n",
    "|     combined     |     0.931     |  0.9325 |     0.9606     |    0.9059   |\n"
   ]
  },
  {
   "cell_type": "markdown",
   "id": "7416fe34",
   "metadata": {},
   "source": [
    "## MobileNet V3 small"
   ]
  },
  {
   "cell_type": "markdown",
   "id": "8647f74d",
   "metadata": {},
   "source": [
    "**Regular Pretrained**\n",
    "\n",
    "Training time: 714.08\n",
    "\n",
    "|     Dataset      | test_accuracy | test_f1 | test_precision | test_recall |\n",
    "|------------------|---------------|---------|----------------|-------------|\n",
    "|  fog-detection   |      1.0      |   1.0   |      1.0       |     1.0     |\n",
    "|   fog-or-smog    |     0.9806    |  0.9812 |     0.9833     |    0.9792   |\n",
    "| foggy-cityscapes |     0.904     |  0.9064 |     0.8846     |    0.9293   |\n",
    "|     combined     |     0.9635    |  0.9655 |     0.9608     |    0.9703   |\n",
    "\n",
    "**Regular no pretraining**\n",
    "\n",
    "Training time: 226.63\n",
    "\n",
    "|     Dataset      | test_accuracy | test_f1 | test_precision | test_recall |\n",
    "|------------------|---------------|---------|----------------|-------------|\n",
    "|  fog-detection   |     0.6132    |  0.7602 |     0.6132     |     1.0     |\n",
    "|   fog-or-smog    |     0.5172    |  0.6818 |     0.5172     |     1.0     |\n",
    "| foggy-cityscapes |      0.5      |  0.6667 |      0.5       |     1.0     |\n",
    "|     combined     |     0.526     |  0.6894 |     0.526      |     1.0     |\n"
   ]
  },
  {
   "cell_type": "markdown",
   "id": "49fa0171",
   "metadata": {},
   "source": [
    "## EfficientNet B1"
   ]
  },
  {
   "cell_type": "markdown",
   "id": "f84eec73",
   "metadata": {},
   "source": [
    "**Regular Pretrained**\n",
    "\n",
    "Training time: 484.54\n",
    "\n",
    "|     Dataset      | test_accuracy | test_f1 | test_precision | test_recall |\n",
    "|------------------|---------------|---------|----------------|-------------|\n",
    "|  fog-detection   |      1.0      |   1.0   |      1.0       |     1.0     |\n",
    "|   fog-or-smog    |     0.9892    |  0.9896 |     0.9916     |    0.9875   |\n",
    "| foggy-cityscapes |     0.9343    |  0.9326 |     0.9574     |    0.9091   |\n",
    "|     combined     |     0.9766    |  0.9776 |     0.9849     |    0.9703   |\n",
    "\n",
    "**Regular no pretraining**\n",
    "\n",
    "Training time: 769.30\n",
    "\n",
    "|     Dataset      | test_accuracy | test_f1 | test_precision | test_recall |\n",
    "|------------------|---------------|---------|----------------|-------------|\n",
    "|  fog-detection   |     0.9528    |  0.963  |     0.9286     |     1.0     |\n",
    "|   fog-or-smog    |     0.9547    |  0.9572 |     0.9363     |    0.9792   |\n",
    "| foggy-cityscapes |     0.8434    |  0.8531 |     0.8036     |    0.9091   |\n",
    "|     combined     |     0.9258    |  0.9319 |     0.9007     |    0.9653   |\n"
   ]
  }
 ],
 "metadata": {
  "kernelspec": {
   "display_name": ".venv",
   "language": "python",
   "name": "python3"
  },
  "language_info": {
   "codemirror_mode": {
    "name": "ipython",
    "version": 3
   },
   "file_extension": ".py",
   "mimetype": "text/x-python",
   "name": "python",
   "nbconvert_exporter": "python",
   "pygments_lexer": "ipython3",
   "version": "3.11.11"
  }
 },
 "nbformat": 4,
 "nbformat_minor": 5
}
