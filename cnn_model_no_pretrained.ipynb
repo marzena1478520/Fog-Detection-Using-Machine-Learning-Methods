{
 "cells": [
  {
   "cell_type": "code",
   "execution_count": 2,
   "id": "9f3d050c",
   "metadata": {},
   "outputs": [],
   "source": [
    "import os\n",
    "from pathlib import Path\n",
    "from PIL import Image\n",
    "from typing import Any, Literal\n",
    "\n",
    "from prettytable import PrettyTable\n",
    "import skimage as ski\n",
    "import lightning as L\n",
    "import torch\n",
    "import torch.nn as nn\n",
    "import torch.optim as optim\n",
    "from torch.utils.data import DataLoader\n",
    "import torchmetrics as tm\n",
    "from torchvision.models import get_model, get_weight\n",
    "from torchvision.datasets import DatasetFolder\n",
    "from torchvision.transforms import v2"
   ]
  },
  {
   "cell_type": "markdown",
   "id": "d096c65a",
   "metadata": {},
   "source": [
    "# Setup"
   ]
  },
  {
   "cell_type": "code",
   "execution_count": 3,
   "id": "504d7a62",
   "metadata": {},
   "outputs": [],
   "source": [
    "DATASET_PATHS = {\n",
    "    'fog-detection': Path('./datasets/fog-detection-dataset-prepared'),\n",
    "    'fog-or-smog': Path('./datasets/fog-or-smog-detection-dataset-prepared'),\n",
    "    'foggy-cityscapes': Path('./datasets/foggy-cityscapes-image-dataset-prepared')\n",
    "}"
   ]
  },
  {
   "cell_type": "code",
   "execution_count": 4,
   "id": "665f11fb",
   "metadata": {},
   "outputs": [
    {
     "data": {
      "text/plain": [
       "ImageClassification(\n",
       "    crop_size=[224]\n",
       "    resize_size=[232]\n",
       "    mean=[0.485, 0.456, 0.406]\n",
       "    std=[0.229, 0.224, 0.225]\n",
       "    interpolation=InterpolationMode.BILINEAR\n",
       ")"
      ]
     },
     "execution_count": 4,
     "metadata": {},
     "output_type": "execute_result"
    }
   ],
   "source": [
    "get_weight(\"RegNet_X_32GF_Weights.DEFAULT\").transforms()"
   ]
  },
  {
   "cell_type": "code",
   "execution_count": 5,
   "id": "bfb3fda0",
   "metadata": {},
   "outputs": [],
   "source": [
    "def load_image(path: str):\n",
    "    img = ski.io.imread(path)\n",
    "    if img.ndim == 2:  # Handle grayscale\n",
    "        img = ski.color.gray2rgb(img)\n",
    "    if img.shape[-1] == 4:  # Handle RGBA\n",
    "        img = ski.color.rgba2rgb(img)\n",
    "    img = ski.util.img_as_ubyte(img)\n",
    "    img = img.squeeze()\n",
    "    \n",
    "    return Image.fromarray(img)\n",
    "\n",
    "train_transforms = v2.Compose([\n",
    "\n",
    "    v2.ToImage(),\n",
    "    # v2.Grayscale(3),\n",
    "    v2.RandomResizedCrop(size=(224,224), antialias=True),\n",
    "    v2.ToDtype(torch.float32, scale=True),\n",
    "    v2.Normalize(mean=[0.5, 0.5, 0.5], std=[0.25, 0.25, 0.25])\n",
    "])\n",
    "\n",
    "test_transforms = v2.Compose([\n",
    "    v2.ToImage(),\n",
    "    # v2.Grayscale(3),\n",
    "    v2.Resize(size=(224, 224)),\n",
    "    v2.ToDtype(torch.float32, scale=True),\n",
    "    v2.Normalize(mean=[0.5, 0.5, 0.5], std=[0.25, 0.25, 0.25])\n",
    "])\n",
    "\n",
    "def get_dataloader(\n",
    "    path: Path | str,\n",
    "    transform: Any | None = None,\n",
    "    batch_size: int = 32,\n",
    "    shuffle: bool = False,\n",
    "    num_workers: int = 0,\n",
    "    pin_memory: bool = True,\n",
    "):\n",
    "    return DataLoader(\n",
    "        dataset=DatasetFolder(\n",
    "            root=path,\n",
    "            loader=load_image,\n",
    "            extensions=[\".jpg\", \".png\", \".jpeg\"],\n",
    "            transform=transform,\n",
    "        ),\n",
    "        batch_size=batch_size,\n",
    "        shuffle=shuffle,\n",
    "        num_workers=num_workers,\n",
    "        pin_memory=pin_memory,\n",
    "        persistent_workers=True if num_workers > 0 else False,\n",
    "    )"
   ]
  },
  {
   "cell_type": "code",
   "execution_count": 6,
   "id": "17646daa",
   "metadata": {},
   "outputs": [],
   "source": [
    "def recursive_getattr(obj: object, name: str):\n",
    "    names = name.split(\".\")\n",
    "    for name in names:\n",
    "        obj = getattr(obj, name)\n",
    "    return obj\n",
    "\n",
    "def recursive_setattr(obj: object, value: Any, name: str):\n",
    "    names = name.split(\".\")\n",
    "    for name in names[:-1]:\n",
    "        obj = getattr(obj, name)\n",
    "    setattr(obj, names[-1], value)"
   ]
  },
  {
   "cell_type": "code",
   "execution_count": 7,
   "id": "ff75f187",
   "metadata": {},
   "outputs": [],
   "source": [
    "class CNNClassifier(L.LightningModule):\n",
    "    def __init__(\n",
    "        self,\n",
    "        model_name: str,\n",
    "        num_classes: int,\n",
    "        loss: nn.Module | None = None,\n",
    "        learning_rate: float= 1e-4,\n",
    "        optimizer_name: Literal['adam', 'adamw'] = 'adam',\n",
    "        weights: str | bool = False,\n",
    "    ):\n",
    "        super().__init__()\n",
    "        self.save_hyperparameters()\n",
    "\n",
    "        self.learning_rate = learning_rate\n",
    "        self.optimizer_name = optimizer_name\n",
    "\n",
    "        self.model_name = model_name\n",
    "        self.num_classes = num_classes\n",
    "        self.weights = weights\n",
    "        if weights == True:  # noqa: E712\n",
    "            self.weights = f\"{self.model_name}_Weights.DEFAULT\"\n",
    "        self.model = self._get_model()\n",
    "\n",
    "        if loss is not None:\n",
    "            self.criterion= loss\n",
    "        else:\n",
    "            self.criterion = nn.CrossEntropyLoss()\n",
    "\n",
    "        task = \"multiclass\" if num_classes > 2 else \"binary\"\n",
    "        \n",
    "        self.train_metrics = tm.MetricCollection({\n",
    "            \"accuracy\": tm.classification.Accuracy(task=task, num_classes=num_classes),\n",
    "            \"f1\": tm.classification.F1Score(task=task, num_classes=num_classes),\n",
    "            \"precision\": tm.classification.Precision(task=task, num_classes=num_classes),\n",
    "            \"recall\": tm.classification.Recall(task=task, num_classes=num_classes),\n",
    "        }, prefix=\"train_\")\n",
    "        self.validation_metrics = self.train_metrics.clone(prefix=\"val_\")\n",
    "        self.test_metrics = self.train_metrics.clone(prefix=\"test_\")\n",
    "\n",
    "    def _get_model(self):\n",
    "        model = get_model(self.model_name, weights=self.weights)\n",
    "\n",
    "        classifier_path = None\n",
    "        classifier_in_features = None\n",
    "        if hasattr(model, 'fc') and isinstance(model.fc, nn.Linear):\n",
    "            classifier_path = \"fc\"\n",
    "            classifier_in_features = model.fc.in_features\n",
    "        elif hasattr(model, 'classifier'):\n",
    "            if isinstance(model.classifier, nn.Linear):\n",
    "                classifier_path = 'classifier'\n",
    "                classifier_in_features = model.classifier.in_features\n",
    "            elif isinstance(model.classifier, nn.Sequential):\n",
    "                for name, module in reversed(list(model.classifier.named_children())):\n",
    "                    if isinstance(module, nn.Linear):\n",
    "                        classifier_path = f\"classifier.{name}\"\n",
    "                        classifier_in_features = module.in_features\n",
    "                        break\n",
    "        elif hasattr(model, 'heads') and hasattr(model.heads, 'head') and isinstance(model.heads.head, nn.Linear):\n",
    "            classifier_path = 'heads.head'\n",
    "            classifier_in_features = model.heads.head.in_features\n",
    "\n",
    "        \n",
    "        recursive_setattr(\n",
    "            model, nn.Linear(classifier_in_features, self.num_classes), classifier_path\n",
    "        )\n",
    "\n",
    "        return model\n",
    "    \n",
    "    def forward(self, x):\n",
    "        return self.model(x)\n",
    "    \n",
    "    def _common_step(self, batch, batch_idx):\n",
    "        images, labels = batch\n",
    "        logits = self(images)\n",
    "        loss = self.criterion(logits, labels)\n",
    "        preds = torch.argmax(logits, dim=1)\n",
    "        return loss, preds, labels\n",
    "    \n",
    "    def training_step(self, batch, batch_idx, dataloader_idx=0):\n",
    "        loss, preds, labels = self._common_step(batch, batch_idx)\n",
    "\n",
    "        self.log(\"train_loss\", loss)\n",
    "        self.log_dict(self.train_metrics(preds, labels))\n",
    "\n",
    "        return loss\n",
    "    \n",
    "    def on_train_epoch_end(self):\n",
    "        self.train_metrics.reset()\n",
    "\n",
    "    def validation_step(self, batch, batch_idx, dataloader_idx=0):\n",
    "        loss, preds, labels = self._common_step(batch, batch_idx)\n",
    "        self.validation_metrics.update(preds, labels)\n",
    "        self.log(\"val_loss\", loss)\n",
    "        return loss\n",
    "    \n",
    "    def on_validation_epoch_end(self):\n",
    "        self.log_dict(self.validation_metrics.compute())\n",
    "        self.validation_metrics.reset()\n",
    "    \n",
    "\n",
    "    def test_step(self, batch, batch_idx, dataloader_idx=0):\n",
    "        loss, preds, labels = self._common_step(batch, batch_idx)\n",
    "        self.test_metrics.update(preds, labels)\n",
    "        return loss\n",
    "    \n",
    "    def on_test_epoch_end(self):\n",
    "        self.log_dict(self.test_metrics.compute())\n",
    "        self.test_metrics.reset()\n",
    "\n",
    "    def configure_optimizers(self):\n",
    "        if self.optimizer_name == 'adam':\n",
    "            optimizer = optim.Adam(self.parameters(), lr=self.learning_rate)\n",
    "        elif self.optimizer_name == 'adamw':\n",
    "            optimizer = optim.AdamW(self.parameters(), lr=self.learning_rate)\n",
    "        else:\n",
    "            raise ValueError(f\"Unsupported optimizer: {self.optimizer_name}.\")\n",
    "        return optimizer"
   ]
  },
  {
   "cell_type": "markdown",
   "id": "cd447779",
   "metadata": {},
   "source": [
    "# Training"
   ]
  },
  {
   "cell_type": "markdown",
   "id": "15bdd0d5",
   "metadata": {},
   "source": [
    "## ResNet18"
   ]
  },
  {
   "cell_type": "code",
   "execution_count": 8,
   "id": "409da4c1",
   "metadata": {},
   "outputs": [
    {
     "name": "stderr",
     "output_type": "stream",
     "text": [
      "GPU available: True (cuda), used: True\n",
      "TPU available: False, using: 0 TPU cores\n",
      "HPU available: False, using: 0 HPUs\n",
      "/home/next/magisterka/.venv/lib/python3.11/site-packages/torchvision/models/_utils.py:223: UserWarning: Arguments other than a weight enum or `None` for 'weights' are deprecated since 0.13 and may be removed in the future. The current behavior is equivalent to passing `weights=None`.\n",
      "  warnings.warn(msg)\n",
      "/home/next/magisterka/.venv/lib/python3.11/site-packages/lightning/pytorch/callbacks/model_checkpoint.py:654: Checkpoint directory /home/next/magisterka/runs/classify/CNN-NO-PRETRAINED/ResNet18-fog-detection/version_1 exists and is not empty.\n",
      "LOCAL_RANK: 0 - CUDA_VISIBLE_DEVICES: [0]\n",
      "\n",
      "  | Name               | Type             | Params | Mode \n",
      "----------------------------------------------------------------\n",
      "0 | model              | ResNet           | 11.2 M | train\n",
      "1 | criterion          | CrossEntropyLoss | 0      | train\n",
      "2 | train_metrics      | MetricCollection | 0      | train\n",
      "3 | validation_metrics | MetricCollection | 0      | train\n",
      "4 | test_metrics       | MetricCollection | 0      | train\n",
      "----------------------------------------------------------------\n",
      "11.2 M    Trainable params\n",
      "0         Non-trainable params\n",
      "11.2 M    Total params\n",
      "44.710    Total estimated model params size (MB)\n",
      "84        Modules in train mode\n",
      "0         Modules in eval mode\n"
     ]
    },
    {
     "name": "stdout",
     "output_type": "stream",
     "text": [
      "Epoch 9: 100%|██████████| 12/12 [00:06<00:00,  1.78it/s, v_num=1]          "
     ]
    },
    {
     "name": "stderr",
     "output_type": "stream",
     "text": [
      "`Trainer.fit` stopped: `max_epochs=10` reached.\n"
     ]
    },
    {
     "name": "stdout",
     "output_type": "stream",
     "text": [
      "Epoch 9: 100%|██████████| 12/12 [00:06<00:00,  1.78it/s, v_num=1]\n"
     ]
    },
    {
     "name": "stderr",
     "output_type": "stream",
     "text": [
      "LOCAL_RANK: 0 - CUDA_VISIBLE_DEVICES: [0]\n",
      "/home/next/magisterka/.venv/lib/python3.11/site-packages/lightning/pytorch/trainer/connectors/data_connector.py:425: The 'test_dataloader' does not have many workers which may be a bottleneck. Consider increasing the value of the `num_workers` argument` to `num_workers=11` in the `DataLoader` to improve performance.\n"
     ]
    },
    {
     "name": "stdout",
     "output_type": "stream",
     "text": [
      "Testing DataLoader 0: 100%|██████████| 4/4 [00:03<00:00,  1.27it/s]\n"
     ]
    },
    {
     "data": {
      "text/html": [
       "<pre style=\"white-space:pre;overflow-x:auto;line-height:normal;font-family:Menlo,'DejaVu Sans Mono',consolas,'Courier New',monospace\">┏━━━━━━━━━━━━━━━━━━━━━━━━━━━┳━━━━━━━━━━━━━━━━━━━━━━━━━━━┓\n",
       "┃<span style=\"font-weight: bold\">        Test metric        </span>┃<span style=\"font-weight: bold\">       DataLoader 0        </span>┃\n",
       "┡━━━━━━━━━━━━━━━━━━━━━━━━━━━╇━━━━━━━━━━━━━━━━━━━━━━━━━━━┩\n",
       "│<span style=\"color: #008080; text-decoration-color: #008080\">       test_accuracy       </span>│<span style=\"color: #800080; text-decoration-color: #800080\">    0.9716981053352356     </span>│\n",
       "│<span style=\"color: #008080; text-decoration-color: #008080\">          test_f1          </span>│<span style=\"color: #800080; text-decoration-color: #800080\">    0.9767441749572754     </span>│\n",
       "│<span style=\"color: #008080; text-decoration-color: #008080\">      test_precision       </span>│<span style=\"color: #800080; text-decoration-color: #800080\">         0.984375          </span>│\n",
       "│<span style=\"color: #008080; text-decoration-color: #008080\">        test_recall        </span>│<span style=\"color: #800080; text-decoration-color: #800080\">    0.9692307710647583     </span>│\n",
       "└───────────────────────────┴───────────────────────────┘\n",
       "</pre>\n"
      ],
      "text/plain": [
       "┏━━━━━━━━━━━━━━━━━━━━━━━━━━━┳━━━━━━━━━━━━━━━━━━━━━━━━━━━┓\n",
       "┃\u001b[1m \u001b[0m\u001b[1m       Test metric       \u001b[0m\u001b[1m \u001b[0m┃\u001b[1m \u001b[0m\u001b[1m      DataLoader 0       \u001b[0m\u001b[1m \u001b[0m┃\n",
       "┡━━━━━━━━━━━━━━━━━━━━━━━━━━━╇━━━━━━━━━━━━━━━━━━━━━━━━━━━┩\n",
       "│\u001b[36m \u001b[0m\u001b[36m      test_accuracy      \u001b[0m\u001b[36m \u001b[0m│\u001b[35m \u001b[0m\u001b[35m   0.9716981053352356    \u001b[0m\u001b[35m \u001b[0m│\n",
       "│\u001b[36m \u001b[0m\u001b[36m         test_f1         \u001b[0m\u001b[36m \u001b[0m│\u001b[35m \u001b[0m\u001b[35m   0.9767441749572754    \u001b[0m\u001b[35m \u001b[0m│\n",
       "│\u001b[36m \u001b[0m\u001b[36m     test_precision      \u001b[0m\u001b[36m \u001b[0m│\u001b[35m \u001b[0m\u001b[35m        0.984375         \u001b[0m\u001b[35m \u001b[0m│\n",
       "│\u001b[36m \u001b[0m\u001b[36m       test_recall       \u001b[0m\u001b[36m \u001b[0m│\u001b[35m \u001b[0m\u001b[35m   0.9692307710647583    \u001b[0m\u001b[35m \u001b[0m│\n",
       "└───────────────────────────┴───────────────────────────┘\n"
      ]
     },
     "metadata": {},
     "output_type": "display_data"
    },
    {
     "name": "stderr",
     "output_type": "stream",
     "text": [
      "LOCAL_RANK: 0 - CUDA_VISIBLE_DEVICES: [0]\n",
      "/home/next/magisterka/.venv/lib/python3.11/site-packages/lightning/pytorch/trainer/connectors/data_connector.py:425: The 'test_dataloader' does not have many workers which may be a bottleneck. Consider increasing the value of the `num_workers` argument` to `num_workers=11` in the `DataLoader` to improve performance.\n"
     ]
    },
    {
     "name": "stdout",
     "output_type": "stream",
     "text": [
      "Testing DataLoader 0: 100%|██████████| 15/15 [00:05<00:00,  2.94it/s]\n"
     ]
    },
    {
     "data": {
      "text/html": [
       "<pre style=\"white-space:pre;overflow-x:auto;line-height:normal;font-family:Menlo,'DejaVu Sans Mono',consolas,'Courier New',monospace\">┏━━━━━━━━━━━━━━━━━━━━━━━━━━━┳━━━━━━━━━━━━━━━━━━━━━━━━━━━┓\n",
       "┃<span style=\"font-weight: bold\">        Test metric        </span>┃<span style=\"font-weight: bold\">       DataLoader 0        </span>┃\n",
       "┡━━━━━━━━━━━━━━━━━━━━━━━━━━━╇━━━━━━━━━━━━━━━━━━━━━━━━━━━┩\n",
       "│<span style=\"color: #008080; text-decoration-color: #008080\">       test_accuracy       </span>│<span style=\"color: #800080; text-decoration-color: #800080\">    0.9568965435028076     </span>│\n",
       "│<span style=\"color: #008080; text-decoration-color: #008080\">          test_f1          </span>│<span style=\"color: #800080; text-decoration-color: #800080\">     0.957446813583374     </span>│\n",
       "│<span style=\"color: #008080; text-decoration-color: #008080\">      test_precision       </span>│<span style=\"color: #800080; text-decoration-color: #800080\">     0.97826087474823      </span>│\n",
       "│<span style=\"color: #008080; text-decoration-color: #008080\">        test_recall        </span>│<span style=\"color: #800080; text-decoration-color: #800080\">          0.9375           </span>│\n",
       "└───────────────────────────┴───────────────────────────┘\n",
       "</pre>\n"
      ],
      "text/plain": [
       "┏━━━━━━━━━━━━━━━━━━━━━━━━━━━┳━━━━━━━━━━━━━━━━━━━━━━━━━━━┓\n",
       "┃\u001b[1m \u001b[0m\u001b[1m       Test metric       \u001b[0m\u001b[1m \u001b[0m┃\u001b[1m \u001b[0m\u001b[1m      DataLoader 0       \u001b[0m\u001b[1m \u001b[0m┃\n",
       "┡━━━━━━━━━━━━━━━━━━━━━━━━━━━╇━━━━━━━━━━━━━━━━━━━━━━━━━━━┩\n",
       "│\u001b[36m \u001b[0m\u001b[36m      test_accuracy      \u001b[0m\u001b[36m \u001b[0m│\u001b[35m \u001b[0m\u001b[35m   0.9568965435028076    \u001b[0m\u001b[35m \u001b[0m│\n",
       "│\u001b[36m \u001b[0m\u001b[36m         test_f1         \u001b[0m\u001b[36m \u001b[0m│\u001b[35m \u001b[0m\u001b[35m    0.957446813583374    \u001b[0m\u001b[35m \u001b[0m│\n",
       "│\u001b[36m \u001b[0m\u001b[36m     test_precision      \u001b[0m\u001b[36m \u001b[0m│\u001b[35m \u001b[0m\u001b[35m    0.97826087474823     \u001b[0m\u001b[35m \u001b[0m│\n",
       "│\u001b[36m \u001b[0m\u001b[36m       test_recall       \u001b[0m\u001b[36m \u001b[0m│\u001b[35m \u001b[0m\u001b[35m         0.9375          \u001b[0m\u001b[35m \u001b[0m│\n",
       "└───────────────────────────┴───────────────────────────┘\n"
      ]
     },
     "metadata": {},
     "output_type": "display_data"
    },
    {
     "name": "stderr",
     "output_type": "stream",
     "text": [
      "LOCAL_RANK: 0 - CUDA_VISIBLE_DEVICES: [0]\n",
      "/home/next/magisterka/.venv/lib/python3.11/site-packages/lightning/pytorch/trainer/connectors/data_connector.py:425: The 'test_dataloader' does not have many workers which may be a bottleneck. Consider increasing the value of the `num_workers` argument` to `num_workers=11` in the `DataLoader` to improve performance.\n"
     ]
    },
    {
     "name": "stdout",
     "output_type": "stream",
     "text": [
      "Testing DataLoader 0: 100%|██████████| 7/7 [00:12<00:00,  0.58it/s]\n"
     ]
    },
    {
     "data": {
      "text/html": [
       "<pre style=\"white-space:pre;overflow-x:auto;line-height:normal;font-family:Menlo,'DejaVu Sans Mono',consolas,'Courier New',monospace\">┏━━━━━━━━━━━━━━━━━━━━━━━━━━━┳━━━━━━━━━━━━━━━━━━━━━━━━━━━┓\n",
       "┃<span style=\"font-weight: bold\">        Test metric        </span>┃<span style=\"font-weight: bold\">       DataLoader 0        </span>┃\n",
       "┡━━━━━━━━━━━━━━━━━━━━━━━━━━━╇━━━━━━━━━━━━━━━━━━━━━━━━━━━┩\n",
       "│<span style=\"color: #008080; text-decoration-color: #008080\">       test_accuracy       </span>│<span style=\"color: #800080; text-decoration-color: #800080\">    0.6666666865348816     </span>│\n",
       "│<span style=\"color: #008080; text-decoration-color: #008080\">          test_f1          </span>│<span style=\"color: #800080; text-decoration-color: #800080\">    0.7203390002250671     </span>│\n",
       "│<span style=\"color: #008080; text-decoration-color: #008080\">      test_precision       </span>│<span style=\"color: #800080; text-decoration-color: #800080\">    0.6204379796981812     </span>│\n",
       "│<span style=\"color: #008080; text-decoration-color: #008080\">        test_recall        </span>│<span style=\"color: #800080; text-decoration-color: #800080\">    0.8585858345031738     </span>│\n",
       "└───────────────────────────┴───────────────────────────┘\n",
       "</pre>\n"
      ],
      "text/plain": [
       "┏━━━━━━━━━━━━━━━━━━━━━━━━━━━┳━━━━━━━━━━━━━━━━━━━━━━━━━━━┓\n",
       "┃\u001b[1m \u001b[0m\u001b[1m       Test metric       \u001b[0m\u001b[1m \u001b[0m┃\u001b[1m \u001b[0m\u001b[1m      DataLoader 0       \u001b[0m\u001b[1m \u001b[0m┃\n",
       "┡━━━━━━━━━━━━━━━━━━━━━━━━━━━╇━━━━━━━━━━━━━━━━━━━━━━━━━━━┩\n",
       "│\u001b[36m \u001b[0m\u001b[36m      test_accuracy      \u001b[0m\u001b[36m \u001b[0m│\u001b[35m \u001b[0m\u001b[35m   0.6666666865348816    \u001b[0m\u001b[35m \u001b[0m│\n",
       "│\u001b[36m \u001b[0m\u001b[36m         test_f1         \u001b[0m\u001b[36m \u001b[0m│\u001b[35m \u001b[0m\u001b[35m   0.7203390002250671    \u001b[0m\u001b[35m \u001b[0m│\n",
       "│\u001b[36m \u001b[0m\u001b[36m     test_precision      \u001b[0m\u001b[36m \u001b[0m│\u001b[35m \u001b[0m\u001b[35m   0.6204379796981812    \u001b[0m\u001b[35m \u001b[0m│\n",
       "│\u001b[36m \u001b[0m\u001b[36m       test_recall       \u001b[0m\u001b[36m \u001b[0m│\u001b[35m \u001b[0m\u001b[35m   0.8585858345031738    \u001b[0m\u001b[35m \u001b[0m│\n",
       "└───────────────────────────┴───────────────────────────┘\n"
      ]
     },
     "metadata": {},
     "output_type": "display_data"
    },
    {
     "data": {
      "text/html": [
       "<table>\n",
       "    <thead>\n",
       "        <tr>\n",
       "            <th>Dataset</th>\n",
       "            <th>test_accuracy</th>\n",
       "            <th>test_f1</th>\n",
       "            <th>test_precision</th>\n",
       "            <th>test_recall</th>\n",
       "        </tr>\n",
       "    </thead>\n",
       "    <tbody>\n",
       "        <tr>\n",
       "            <td>fog-detection</td>\n",
       "            <td>0.9717</td>\n",
       "            <td>0.9767</td>\n",
       "            <td>0.9844</td>\n",
       "            <td>0.9692</td>\n",
       "        </tr>\n",
       "        <tr>\n",
       "            <td>fog-or-smog</td>\n",
       "            <td>0.9569</td>\n",
       "            <td>0.9574</td>\n",
       "            <td>0.9783</td>\n",
       "            <td>0.9375</td>\n",
       "        </tr>\n",
       "        <tr>\n",
       "            <td>foggy-cityscapes</td>\n",
       "            <td>0.6667</td>\n",
       "            <td>0.7203</td>\n",
       "            <td>0.6204</td>\n",
       "            <td>0.8586</td>\n",
       "        </tr>\n",
       "    </tbody>\n",
       "</table>"
      ],
      "text/plain": [
       "+------------------+---------------+---------+----------------+-------------+\n",
       "|     Dataset      | test_accuracy | test_f1 | test_precision | test_recall |\n",
       "+------------------+---------------+---------+----------------+-------------+\n",
       "|  fog-detection   |     0.9717    |  0.9767 |     0.9844     |    0.9692   |\n",
       "|   fog-or-smog    |     0.9569    |  0.9574 |     0.9783     |    0.9375   |\n",
       "| foggy-cityscapes |     0.6667    |  0.7203 |     0.6204     |    0.8586   |\n",
       "+------------------+---------------+---------+----------------+-------------+"
      ]
     },
     "execution_count": 8,
     "metadata": {},
     "output_type": "execute_result"
    }
   ],
   "source": [
    "SAVE_DIR = Path('runs/classify/CNN-NO-PRETRAINED')\n",
    "MODEL_NAME = \"ResNet18\"\n",
    "DATASET = 'fog-detection'\n",
    "VERSION = 1\n",
    "\n",
    "trainer = L.Trainer(\n",
    "    max_epochs=10,\n",
    "    logger=L.pytorch.loggers.TensorBoardLogger(\n",
    "        save_dir=SAVE_DIR,\n",
    "        name=f\"{MODEL_NAME}-{DATASET}\",\n",
    "        version=VERSION,\n",
    "    ),\n",
    "    callbacks=[\n",
    "        L.pytorch.callbacks.early_stopping.EarlyStopping(\n",
    "            monitor=\"val_loss\", mode=\"min\",\n",
    "            patience=5,\n",
    "            verbose=False    \n",
    "        ),\n",
    "        L.pytorch.callbacks.ModelCheckpoint(\n",
    "            monitor=\"val_f1\", mode=\"max\",\n",
    "            dirpath=SAVE_DIR / f\"{MODEL_NAME}-{DATASET}\" / f\"version_{VERSION}\",\n",
    "            filename=\"{epoch}-{val_loss:.2f}-{val_f1:.2f}\"\n",
    "        )\n",
    "    ],\n",
    "    log_every_n_steps=1\n",
    ")\n",
    "\n",
    "model = CNNClassifier(\n",
    "    model_name=MODEL_NAME,\n",
    "    num_classes=2,\n",
    "    weights=False,\n",
    ")\n",
    "\n",
    "trainer.fit(\n",
    "    model,\n",
    "    train_dataloaders=get_dataloader(\n",
    "        path=DATASET_PATHS[DATASET] / 'train',\n",
    "        transform=train_transforms,\n",
    "        batch_size=32,\n",
    "        shuffle=True,\n",
    "        num_workers=11\n",
    "    ),\n",
    "    val_dataloaders=get_dataloader(\n",
    "        path=DATASET_PATHS[DATASET] / 'val',\n",
    "        transform=test_transforms,\n",
    "        batch_size=32,\n",
    "        shuffle=False,\n",
    "        num_workers=11\n",
    "    ),\n",
    ")\n",
    "\n",
    "model = CNNClassifier.load_from_checkpoint(\n",
    "    trainer.checkpoint_callbacks[0].best_model_path\n",
    ")\n",
    "\n",
    "res = {\n",
    "    dataset_name: trainer.test(model, get_dataloader(path=path / 'test', transform=test_transforms))[0]\n",
    "    for dataset_name, path in DATASET_PATHS.items()\n",
    "}\n",
    "\n",
    "table = PrettyTable()\n",
    "table.field_names = [\n",
    "    \"Dataset\", *list(next(iter(res.values())).keys())\n",
    "]\n",
    "table.add_rows([\n",
    "    [dataset, *[round(m, 4) for m in metrics.values()]] for dataset, metrics in res.items()\n",
    "])\n",
    "table"
   ]
  },
  {
   "cell_type": "code",
   "execution_count": 9,
   "id": "92d17c17",
   "metadata": {},
   "outputs": [
    {
     "name": "stderr",
     "output_type": "stream",
     "text": [
      "GPU available: True (cuda), used: True\n",
      "TPU available: False, using: 0 TPU cores\n",
      "HPU available: False, using: 0 HPUs\n",
      "/home/next/magisterka/.venv/lib/python3.11/site-packages/torchvision/models/_utils.py:223: UserWarning: Arguments other than a weight enum or `None` for 'weights' are deprecated since 0.13 and may be removed in the future. The current behavior is equivalent to passing `weights=None`.\n",
      "  warnings.warn(msg)\n",
      "/home/next/magisterka/.venv/lib/python3.11/site-packages/lightning/pytorch/callbacks/model_checkpoint.py:654: Checkpoint directory /home/next/magisterka/runs/classify/CNN-NO-PRETRAINED/ResNet18-fog-or-smog/version_1 exists and is not empty.\n",
      "LOCAL_RANK: 0 - CUDA_VISIBLE_DEVICES: [0]\n",
      "\n",
      "  | Name               | Type             | Params | Mode \n",
      "----------------------------------------------------------------\n",
      "0 | model              | ResNet           | 11.2 M | train\n",
      "1 | criterion          | CrossEntropyLoss | 0      | train\n",
      "2 | train_metrics      | MetricCollection | 0      | train\n",
      "3 | validation_metrics | MetricCollection | 0      | train\n",
      "4 | test_metrics       | MetricCollection | 0      | train\n",
      "----------------------------------------------------------------\n",
      "11.2 M    Trainable params\n",
      "0         Non-trainable params\n",
      "11.2 M    Total params\n",
      "44.710    Total estimated model params size (MB)\n",
      "84        Modules in train mode\n",
      "0         Modules in eval mode\n"
     ]
    },
    {
     "name": "stdout",
     "output_type": "stream",
     "text": [
      "Epoch 9: 100%|██████████| 52/52 [00:06<00:00,  7.72it/s, v_num=1]          "
     ]
    },
    {
     "name": "stderr",
     "output_type": "stream",
     "text": [
      "`Trainer.fit` stopped: `max_epochs=10` reached.\n"
     ]
    },
    {
     "name": "stdout",
     "output_type": "stream",
     "text": [
      "Epoch 9: 100%|██████████| 52/52 [00:06<00:00,  7.71it/s, v_num=1]\n"
     ]
    },
    {
     "name": "stderr",
     "output_type": "stream",
     "text": [
      "LOCAL_RANK: 0 - CUDA_VISIBLE_DEVICES: [0]\n",
      "/home/next/magisterka/.venv/lib/python3.11/site-packages/lightning/pytorch/trainer/connectors/data_connector.py:425: The 'test_dataloader' does not have many workers which may be a bottleneck. Consider increasing the value of the `num_workers` argument` to `num_workers=11` in the `DataLoader` to improve performance.\n"
     ]
    },
    {
     "name": "stdout",
     "output_type": "stream",
     "text": [
      "Testing DataLoader 0: 100%|██████████| 4/4 [00:02<00:00,  1.45it/s]\n"
     ]
    },
    {
     "data": {
      "text/html": [
       "<pre style=\"white-space:pre;overflow-x:auto;line-height:normal;font-family:Menlo,'DejaVu Sans Mono',consolas,'Courier New',monospace\">┏━━━━━━━━━━━━━━━━━━━━━━━━━━━┳━━━━━━━━━━━━━━━━━━━━━━━━━━━┓\n",
       "┃<span style=\"font-weight: bold\">        Test metric        </span>┃<span style=\"font-weight: bold\">       DataLoader 0        </span>┃\n",
       "┡━━━━━━━━━━━━━━━━━━━━━━━━━━━╇━━━━━━━━━━━━━━━━━━━━━━━━━━━┩\n",
       "│<span style=\"color: #008080; text-decoration-color: #008080\">       test_accuracy       </span>│<span style=\"color: #800080; text-decoration-color: #800080\">    0.8396226167678833     </span>│\n",
       "│<span style=\"color: #008080; text-decoration-color: #008080\">          test_f1          </span>│<span style=\"color: #800080; text-decoration-color: #800080\">     0.852173924446106     </span>│\n",
       "│<span style=\"color: #008080; text-decoration-color: #008080\">      test_precision       </span>│<span style=\"color: #800080; text-decoration-color: #800080\">    0.9800000190734863     </span>│\n",
       "│<span style=\"color: #008080; text-decoration-color: #008080\">        test_recall        </span>│<span style=\"color: #800080; text-decoration-color: #800080\">    0.7538461685180664     </span>│\n",
       "└───────────────────────────┴───────────────────────────┘\n",
       "</pre>\n"
      ],
      "text/plain": [
       "┏━━━━━━━━━━━━━━━━━━━━━━━━━━━┳━━━━━━━━━━━━━━━━━━━━━━━━━━━┓\n",
       "┃\u001b[1m \u001b[0m\u001b[1m       Test metric       \u001b[0m\u001b[1m \u001b[0m┃\u001b[1m \u001b[0m\u001b[1m      DataLoader 0       \u001b[0m\u001b[1m \u001b[0m┃\n",
       "┡━━━━━━━━━━━━━━━━━━━━━━━━━━━╇━━━━━━━━━━━━━━━━━━━━━━━━━━━┩\n",
       "│\u001b[36m \u001b[0m\u001b[36m      test_accuracy      \u001b[0m\u001b[36m \u001b[0m│\u001b[35m \u001b[0m\u001b[35m   0.8396226167678833    \u001b[0m\u001b[35m \u001b[0m│\n",
       "│\u001b[36m \u001b[0m\u001b[36m         test_f1         \u001b[0m\u001b[36m \u001b[0m│\u001b[35m \u001b[0m\u001b[35m    0.852173924446106    \u001b[0m\u001b[35m \u001b[0m│\n",
       "│\u001b[36m \u001b[0m\u001b[36m     test_precision      \u001b[0m\u001b[36m \u001b[0m│\u001b[35m \u001b[0m\u001b[35m   0.9800000190734863    \u001b[0m\u001b[35m \u001b[0m│\n",
       "│\u001b[36m \u001b[0m\u001b[36m       test_recall       \u001b[0m\u001b[36m \u001b[0m│\u001b[35m \u001b[0m\u001b[35m   0.7538461685180664    \u001b[0m\u001b[35m \u001b[0m│\n",
       "└───────────────────────────┴───────────────────────────┘\n"
      ]
     },
     "metadata": {},
     "output_type": "display_data"
    },
    {
     "name": "stderr",
     "output_type": "stream",
     "text": [
      "LOCAL_RANK: 0 - CUDA_VISIBLE_DEVICES: [0]\n",
      "/home/next/magisterka/.venv/lib/python3.11/site-packages/lightning/pytorch/trainer/connectors/data_connector.py:425: The 'test_dataloader' does not have many workers which may be a bottleneck. Consider increasing the value of the `num_workers` argument` to `num_workers=11` in the `DataLoader` to improve performance.\n"
     ]
    },
    {
     "name": "stdout",
     "output_type": "stream",
     "text": [
      "Testing DataLoader 0: 100%|██████████| 15/15 [00:05<00:00,  2.68it/s]\n"
     ]
    },
    {
     "data": {
      "text/html": [
       "<pre style=\"white-space:pre;overflow-x:auto;line-height:normal;font-family:Menlo,'DejaVu Sans Mono',consolas,'Courier New',monospace\">┏━━━━━━━━━━━━━━━━━━━━━━━━━━━┳━━━━━━━━━━━━━━━━━━━━━━━━━━━┓\n",
       "┃<span style=\"font-weight: bold\">        Test metric        </span>┃<span style=\"font-weight: bold\">       DataLoader 0        </span>┃\n",
       "┡━━━━━━━━━━━━━━━━━━━━━━━━━━━╇━━━━━━━━━━━━━━━━━━━━━━━━━━━┩\n",
       "│<span style=\"color: #008080; text-decoration-color: #008080\">       test_accuracy       </span>│<span style=\"color: #800080; text-decoration-color: #800080\">    0.9741379022598267     </span>│\n",
       "│<span style=\"color: #008080; text-decoration-color: #008080\">          test_f1          </span>│<span style=\"color: #800080; text-decoration-color: #800080\">    0.9745762944221497     </span>│\n",
       "│<span style=\"color: #008080; text-decoration-color: #008080\">      test_precision       </span>│<span style=\"color: #800080; text-decoration-color: #800080\">    0.9913793206214905     </span>│\n",
       "│<span style=\"color: #008080; text-decoration-color: #008080\">        test_recall        </span>│<span style=\"color: #800080; text-decoration-color: #800080\">    0.9583333134651184     </span>│\n",
       "└───────────────────────────┴───────────────────────────┘\n",
       "</pre>\n"
      ],
      "text/plain": [
       "┏━━━━━━━━━━━━━━━━━━━━━━━━━━━┳━━━━━━━━━━━━━━━━━━━━━━━━━━━┓\n",
       "┃\u001b[1m \u001b[0m\u001b[1m       Test metric       \u001b[0m\u001b[1m \u001b[0m┃\u001b[1m \u001b[0m\u001b[1m      DataLoader 0       \u001b[0m\u001b[1m \u001b[0m┃\n",
       "┡━━━━━━━━━━━━━━━━━━━━━━━━━━━╇━━━━━━━━━━━━━━━━━━━━━━━━━━━┩\n",
       "│\u001b[36m \u001b[0m\u001b[36m      test_accuracy      \u001b[0m\u001b[36m \u001b[0m│\u001b[35m \u001b[0m\u001b[35m   0.9741379022598267    \u001b[0m\u001b[35m \u001b[0m│\n",
       "│\u001b[36m \u001b[0m\u001b[36m         test_f1         \u001b[0m\u001b[36m \u001b[0m│\u001b[35m \u001b[0m\u001b[35m   0.9745762944221497    \u001b[0m\u001b[35m \u001b[0m│\n",
       "│\u001b[36m \u001b[0m\u001b[36m     test_precision      \u001b[0m\u001b[36m \u001b[0m│\u001b[35m \u001b[0m\u001b[35m   0.9913793206214905    \u001b[0m\u001b[35m \u001b[0m│\n",
       "│\u001b[36m \u001b[0m\u001b[36m       test_recall       \u001b[0m\u001b[36m \u001b[0m│\u001b[35m \u001b[0m\u001b[35m   0.9583333134651184    \u001b[0m\u001b[35m \u001b[0m│\n",
       "└───────────────────────────┴───────────────────────────┘\n"
      ]
     },
     "metadata": {},
     "output_type": "display_data"
    },
    {
     "name": "stderr",
     "output_type": "stream",
     "text": [
      "LOCAL_RANK: 0 - CUDA_VISIBLE_DEVICES: [0]\n",
      "/home/next/magisterka/.venv/lib/python3.11/site-packages/lightning/pytorch/trainer/connectors/data_connector.py:425: The 'test_dataloader' does not have many workers which may be a bottleneck. Consider increasing the value of the `num_workers` argument` to `num_workers=11` in the `DataLoader` to improve performance.\n"
     ]
    },
    {
     "name": "stdout",
     "output_type": "stream",
     "text": [
      "Testing DataLoader 0: 100%|██████████| 7/7 [00:12<00:00,  0.58it/s]\n"
     ]
    },
    {
     "data": {
      "text/html": [
       "<pre style=\"white-space:pre;overflow-x:auto;line-height:normal;font-family:Menlo,'DejaVu Sans Mono',consolas,'Courier New',monospace\">┏━━━━━━━━━━━━━━━━━━━━━━━━━━━┳━━━━━━━━━━━━━━━━━━━━━━━━━━━┓\n",
       "┃<span style=\"font-weight: bold\">        Test metric        </span>┃<span style=\"font-weight: bold\">       DataLoader 0        </span>┃\n",
       "┡━━━━━━━━━━━━━━━━━━━━━━━━━━━╇━━━━━━━━━━━━━━━━━━━━━━━━━━━┩\n",
       "│<span style=\"color: #008080; text-decoration-color: #008080\">       test_accuracy       </span>│<span style=\"color: #800080; text-decoration-color: #800080\">    0.6060606241226196     </span>│\n",
       "│<span style=\"color: #008080; text-decoration-color: #008080\">          test_f1          </span>│<span style=\"color: #800080; text-decoration-color: #800080\">    0.6976743936538696     </span>│\n",
       "│<span style=\"color: #008080; text-decoration-color: #008080\">      test_precision       </span>│<span style=\"color: #800080; text-decoration-color: #800080\">    0.5660377144813538     </span>│\n",
       "│<span style=\"color: #008080; text-decoration-color: #008080\">        test_recall        </span>│<span style=\"color: #800080; text-decoration-color: #800080\">    0.9090909361839294     </span>│\n",
       "└───────────────────────────┴───────────────────────────┘\n",
       "</pre>\n"
      ],
      "text/plain": [
       "┏━━━━━━━━━━━━━━━━━━━━━━━━━━━┳━━━━━━━━━━━━━━━━━━━━━━━━━━━┓\n",
       "┃\u001b[1m \u001b[0m\u001b[1m       Test metric       \u001b[0m\u001b[1m \u001b[0m┃\u001b[1m \u001b[0m\u001b[1m      DataLoader 0       \u001b[0m\u001b[1m \u001b[0m┃\n",
       "┡━━━━━━━━━━━━━━━━━━━━━━━━━━━╇━━━━━━━━━━━━━━━━━━━━━━━━━━━┩\n",
       "│\u001b[36m \u001b[0m\u001b[36m      test_accuracy      \u001b[0m\u001b[36m \u001b[0m│\u001b[35m \u001b[0m\u001b[35m   0.6060606241226196    \u001b[0m\u001b[35m \u001b[0m│\n",
       "│\u001b[36m \u001b[0m\u001b[36m         test_f1         \u001b[0m\u001b[36m \u001b[0m│\u001b[35m \u001b[0m\u001b[35m   0.6976743936538696    \u001b[0m\u001b[35m \u001b[0m│\n",
       "│\u001b[36m \u001b[0m\u001b[36m     test_precision      \u001b[0m\u001b[36m \u001b[0m│\u001b[35m \u001b[0m\u001b[35m   0.5660377144813538    \u001b[0m\u001b[35m \u001b[0m│\n",
       "│\u001b[36m \u001b[0m\u001b[36m       test_recall       \u001b[0m\u001b[36m \u001b[0m│\u001b[35m \u001b[0m\u001b[35m   0.9090909361839294    \u001b[0m\u001b[35m \u001b[0m│\n",
       "└───────────────────────────┴───────────────────────────┘\n"
      ]
     },
     "metadata": {},
     "output_type": "display_data"
    },
    {
     "data": {
      "text/html": [
       "<table>\n",
       "    <thead>\n",
       "        <tr>\n",
       "            <th>Dataset</th>\n",
       "            <th>test_accuracy</th>\n",
       "            <th>test_f1</th>\n",
       "            <th>test_precision</th>\n",
       "            <th>test_recall</th>\n",
       "        </tr>\n",
       "    </thead>\n",
       "    <tbody>\n",
       "        <tr>\n",
       "            <td>fog-detection</td>\n",
       "            <td>0.8396</td>\n",
       "            <td>0.8522</td>\n",
       "            <td>0.98</td>\n",
       "            <td>0.7538</td>\n",
       "        </tr>\n",
       "        <tr>\n",
       "            <td>fog-or-smog</td>\n",
       "            <td>0.9741</td>\n",
       "            <td>0.9746</td>\n",
       "            <td>0.9914</td>\n",
       "            <td>0.9583</td>\n",
       "        </tr>\n",
       "        <tr>\n",
       "            <td>foggy-cityscapes</td>\n",
       "            <td>0.6061</td>\n",
       "            <td>0.6977</td>\n",
       "            <td>0.566</td>\n",
       "            <td>0.9091</td>\n",
       "        </tr>\n",
       "    </tbody>\n",
       "</table>"
      ],
      "text/plain": [
       "+------------------+---------------+---------+----------------+-------------+\n",
       "|     Dataset      | test_accuracy | test_f1 | test_precision | test_recall |\n",
       "+------------------+---------------+---------+----------------+-------------+\n",
       "|  fog-detection   |     0.8396    |  0.8522 |      0.98      |    0.7538   |\n",
       "|   fog-or-smog    |     0.9741    |  0.9746 |     0.9914     |    0.9583   |\n",
       "| foggy-cityscapes |     0.6061    |  0.6977 |     0.566      |    0.9091   |\n",
       "+------------------+---------------+---------+----------------+-------------+"
      ]
     },
     "execution_count": 9,
     "metadata": {},
     "output_type": "execute_result"
    }
   ],
   "source": [
    "SAVE_DIR = Path('runs/classify/CNN-NO-PRETRAINED')\n",
    "MODEL_NAME = \"ResNet18\"\n",
    "DATASET = 'fog-or-smog'\n",
    "VERSION = 1\n",
    "\n",
    "trainer = L.Trainer(\n",
    "    max_epochs=10,\n",
    "    logger=L.pytorch.loggers.TensorBoardLogger(\n",
    "        save_dir=SAVE_DIR,\n",
    "        name=f\"{MODEL_NAME}-{DATASET}\",\n",
    "        version=VERSION,\n",
    "    ),\n",
    "    callbacks=[\n",
    "        L.pytorch.callbacks.early_stopping.EarlyStopping(\n",
    "            monitor=\"val_loss\", mode=\"min\",\n",
    "            patience=5,\n",
    "            verbose=False    \n",
    "        ),\n",
    "        L.pytorch.callbacks.ModelCheckpoint(\n",
    "            monitor=\"val_f1\", mode=\"max\",\n",
    "            dirpath=SAVE_DIR / f\"{MODEL_NAME}-{DATASET}\" / f\"version_{VERSION}\",\n",
    "            filename=\"{epoch}-{val_loss:.2f}-{val_f1:.2f}\"\n",
    "        )\n",
    "    ],\n",
    "    log_every_n_steps=1\n",
    ")\n",
    "\n",
    "model = CNNClassifier(\n",
    "    model_name=MODEL_NAME,\n",
    "    num_classes=2,\n",
    "    weights=False,\n",
    ")\n",
    "\n",
    "trainer.fit(\n",
    "    model,\n",
    "    train_dataloaders=get_dataloader(\n",
    "        path=DATASET_PATHS[DATASET] / 'train',\n",
    "        transform=train_transforms,\n",
    "        batch_size=32,\n",
    "        shuffle=True,\n",
    "        num_workers=11\n",
    "    ),\n",
    "    val_dataloaders=get_dataloader(\n",
    "        path=DATASET_PATHS[DATASET] / 'val',\n",
    "        transform=test_transforms,\n",
    "        batch_size=32,\n",
    "        shuffle=False,\n",
    "        num_workers=11\n",
    "    ),\n",
    ")\n",
    "\n",
    "model = CNNClassifier.load_from_checkpoint(\n",
    "    trainer.checkpoint_callbacks[0].best_model_path\n",
    ")\n",
    "\n",
    "res = {\n",
    "    dataset_name: trainer.test(model, get_dataloader(path=path / 'test', transform=test_transforms))[0]\n",
    "    for dataset_name, path in DATASET_PATHS.items()\n",
    "}\n",
    "\n",
    "table = PrettyTable()\n",
    "table.field_names = [\n",
    "    \"Dataset\", *list(next(iter(res.values())).keys())\n",
    "]\n",
    "table.add_rows([\n",
    "    [dataset, *[round(m, 4) for m in metrics.values()]] for dataset, metrics in res.items()\n",
    "])\n",
    "table"
   ]
  },
  {
   "cell_type": "code",
   "execution_count": null,
   "id": "47c0dd0e",
   "metadata": {},
   "outputs": [
    {
     "name": "stderr",
     "output_type": "stream",
     "text": [
      "GPU available: True (cuda), used: True\n",
      "TPU available: False, using: 0 TPU cores\n",
      "HPU available: False, using: 0 HPUs\n",
      "/home/next/magisterka/.venv/lib/python3.11/site-packages/torchvision/models/_utils.py:223: UserWarning: Arguments other than a weight enum or `None` for 'weights' are deprecated since 0.13 and may be removed in the future. The current behavior is equivalent to passing `weights=None`.\n",
      "  warnings.warn(msg)\n",
      "/home/next/magisterka/.venv/lib/python3.11/site-packages/lightning/pytorch/callbacks/model_checkpoint.py:654: Checkpoint directory /home/next/magisterka/runs/classify/CNN-NO-PRETRAINED/ResNet18-foggy-cityscapes/version_1 exists and is not empty.\n",
      "LOCAL_RANK: 0 - CUDA_VISIBLE_DEVICES: [0]\n",
      "\n",
      "  | Name               | Type             | Params | Mode \n",
      "----------------------------------------------------------------\n",
      "0 | model              | ResNet           | 11.2 M | train\n",
      "1 | criterion          | CrossEntropyLoss | 0      | train\n",
      "2 | train_metrics      | MetricCollection | 0      | train\n",
      "3 | validation_metrics | MetricCollection | 0      | train\n",
      "4 | test_metrics       | MetricCollection | 0      | train\n",
      "----------------------------------------------------------------\n",
      "11.2 M    Trainable params\n",
      "0         Non-trainable params\n",
      "11.2 M    Total params\n",
      "44.710    Total estimated model params size (MB)\n",
      "84        Modules in train mode\n",
      "0         Modules in eval mode\n"
     ]
    },
    {
     "name": "stdout",
     "output_type": "stream",
     "text": [
      "Epoch 6: 100%|██████████| 22/22 [00:13<00:00,  1.64it/s, v_num=1]          \n"
     ]
    },
    {
     "name": "stderr",
     "output_type": "stream",
     "text": [
      "LOCAL_RANK: 0 - CUDA_VISIBLE_DEVICES: [0]\n",
      "/home/next/magisterka/.venv/lib/python3.11/site-packages/lightning/pytorch/trainer/connectors/data_connector.py:425: The 'test_dataloader' does not have many workers which may be a bottleneck. Consider increasing the value of the `num_workers` argument` to `num_workers=11` in the `DataLoader` to improve performance.\n"
     ]
    },
    {
     "name": "stdout",
     "output_type": "stream",
     "text": [
      "Testing DataLoader 0: 100%|██████████| 4/4 [00:02<00:00,  1.52it/s]\n"
     ]
    },
    {
     "data": {
      "text/html": [
       "<pre style=\"white-space:pre;overflow-x:auto;line-height:normal;font-family:Menlo,'DejaVu Sans Mono',consolas,'Courier New',monospace\">┏━━━━━━━━━━━━━━━━━━━━━━━━━━━┳━━━━━━━━━━━━━━━━━━━━━━━━━━━┓\n",
       "┃<span style=\"font-weight: bold\">        Test metric        </span>┃<span style=\"font-weight: bold\">       DataLoader 0        </span>┃\n",
       "┡━━━━━━━━━━━━━━━━━━━━━━━━━━━╇━━━━━━━━━━━━━━━━━━━━━━━━━━━┩\n",
       "│<span style=\"color: #008080; text-decoration-color: #008080\">       test_accuracy       </span>│<span style=\"color: #800080; text-decoration-color: #800080\">    0.8679245114326477     </span>│\n",
       "│<span style=\"color: #008080; text-decoration-color: #008080\">          test_f1          </span>│<span style=\"color: #800080; text-decoration-color: #800080\">         0.890625          </span>│\n",
       "│<span style=\"color: #008080; text-decoration-color: #008080\">      test_precision       </span>│<span style=\"color: #800080; text-decoration-color: #800080\">    0.9047619104385376     </span>│\n",
       "│<span style=\"color: #008080; text-decoration-color: #008080\">        test_recall        </span>│<span style=\"color: #800080; text-decoration-color: #800080\">    0.8769230842590332     </span>│\n",
       "└───────────────────────────┴───────────────────────────┘\n",
       "</pre>\n"
      ],
      "text/plain": [
       "┏━━━━━━━━━━━━━━━━━━━━━━━━━━━┳━━━━━━━━━━━━━━━━━━━━━━━━━━━┓\n",
       "┃\u001b[1m \u001b[0m\u001b[1m       Test metric       \u001b[0m\u001b[1m \u001b[0m┃\u001b[1m \u001b[0m\u001b[1m      DataLoader 0       \u001b[0m\u001b[1m \u001b[0m┃\n",
       "┡━━━━━━━━━━━━━━━━━━━━━━━━━━━╇━━━━━━━━━━━━━━━━━━━━━━━━━━━┩\n",
       "│\u001b[36m \u001b[0m\u001b[36m      test_accuracy      \u001b[0m\u001b[36m \u001b[0m│\u001b[35m \u001b[0m\u001b[35m   0.8679245114326477    \u001b[0m\u001b[35m \u001b[0m│\n",
       "│\u001b[36m \u001b[0m\u001b[36m         test_f1         \u001b[0m\u001b[36m \u001b[0m│\u001b[35m \u001b[0m\u001b[35m        0.890625         \u001b[0m\u001b[35m \u001b[0m│\n",
       "│\u001b[36m \u001b[0m\u001b[36m     test_precision      \u001b[0m\u001b[36m \u001b[0m│\u001b[35m \u001b[0m\u001b[35m   0.9047619104385376    \u001b[0m\u001b[35m \u001b[0m│\n",
       "│\u001b[36m \u001b[0m\u001b[36m       test_recall       \u001b[0m\u001b[36m \u001b[0m│\u001b[35m \u001b[0m\u001b[35m   0.8769230842590332    \u001b[0m\u001b[35m \u001b[0m│\n",
       "└───────────────────────────┴───────────────────────────┘\n"
      ]
     },
     "metadata": {},
     "output_type": "display_data"
    },
    {
     "name": "stderr",
     "output_type": "stream",
     "text": [
      "LOCAL_RANK: 0 - CUDA_VISIBLE_DEVICES: [0]\n",
      "/home/next/magisterka/.venv/lib/python3.11/site-packages/lightning/pytorch/trainer/connectors/data_connector.py:425: The 'test_dataloader' does not have many workers which may be a bottleneck. Consider increasing the value of the `num_workers` argument` to `num_workers=11` in the `DataLoader` to improve performance.\n"
     ]
    },
    {
     "name": "stdout",
     "output_type": "stream",
     "text": [
      "Testing DataLoader 0: 100%|██████████| 15/15 [00:05<00:00,  2.87it/s]\n"
     ]
    },
    {
     "data": {
      "text/html": [
       "<pre style=\"white-space:pre;overflow-x:auto;line-height:normal;font-family:Menlo,'DejaVu Sans Mono',consolas,'Courier New',monospace\">┏━━━━━━━━━━━━━━━━━━━━━━━━━━━┳━━━━━━━━━━━━━━━━━━━━━━━━━━━┓\n",
       "┃<span style=\"font-weight: bold\">        Test metric        </span>┃<span style=\"font-weight: bold\">       DataLoader 0        </span>┃\n",
       "┡━━━━━━━━━━━━━━━━━━━━━━━━━━━╇━━━━━━━━━━━━━━━━━━━━━━━━━━━┩\n",
       "│<span style=\"color: #008080; text-decoration-color: #008080\">       test_accuracy       </span>│<span style=\"color: #800080; text-decoration-color: #800080\">    0.8879310488700867     </span>│\n",
       "│<span style=\"color: #008080; text-decoration-color: #008080\">          test_f1          </span>│<span style=\"color: #800080; text-decoration-color: #800080\">    0.8980392217636108     </span>│\n",
       "│<span style=\"color: #008080; text-decoration-color: #008080\">      test_precision       </span>│<span style=\"color: #800080; text-decoration-color: #800080\">    0.8481481671333313     </span>│\n",
       "│<span style=\"color: #008080; text-decoration-color: #008080\">        test_recall        </span>│<span style=\"color: #800080; text-decoration-color: #800080\">    0.9541666507720947     </span>│\n",
       "└───────────────────────────┴───────────────────────────┘\n",
       "</pre>\n"
      ],
      "text/plain": [
       "┏━━━━━━━━━━━━━━━━━━━━━━━━━━━┳━━━━━━━━━━━━━━━━━━━━━━━━━━━┓\n",
       "┃\u001b[1m \u001b[0m\u001b[1m       Test metric       \u001b[0m\u001b[1m \u001b[0m┃\u001b[1m \u001b[0m\u001b[1m      DataLoader 0       \u001b[0m\u001b[1m \u001b[0m┃\n",
       "┡━━━━━━━━━━━━━━━━━━━━━━━━━━━╇━━━━━━━━━━━━━━━━━━━━━━━━━━━┩\n",
       "│\u001b[36m \u001b[0m\u001b[36m      test_accuracy      \u001b[0m\u001b[36m \u001b[0m│\u001b[35m \u001b[0m\u001b[35m   0.8879310488700867    \u001b[0m\u001b[35m \u001b[0m│\n",
       "│\u001b[36m \u001b[0m\u001b[36m         test_f1         \u001b[0m\u001b[36m \u001b[0m│\u001b[35m \u001b[0m\u001b[35m   0.8980392217636108    \u001b[0m\u001b[35m \u001b[0m│\n",
       "│\u001b[36m \u001b[0m\u001b[36m     test_precision      \u001b[0m\u001b[36m \u001b[0m│\u001b[35m \u001b[0m\u001b[35m   0.8481481671333313    \u001b[0m\u001b[35m \u001b[0m│\n",
       "│\u001b[36m \u001b[0m\u001b[36m       test_recall       \u001b[0m\u001b[36m \u001b[0m│\u001b[35m \u001b[0m\u001b[35m   0.9541666507720947    \u001b[0m\u001b[35m \u001b[0m│\n",
       "└───────────────────────────┴───────────────────────────┘\n"
      ]
     },
     "metadata": {},
     "output_type": "display_data"
    },
    {
     "name": "stderr",
     "output_type": "stream",
     "text": [
      "LOCAL_RANK: 0 - CUDA_VISIBLE_DEVICES: [0]\n",
      "/home/next/magisterka/.venv/lib/python3.11/site-packages/lightning/pytorch/trainer/connectors/data_connector.py:425: The 'test_dataloader' does not have many workers which may be a bottleneck. Consider increasing the value of the `num_workers` argument` to `num_workers=11` in the `DataLoader` to improve performance.\n"
     ]
    },
    {
     "name": "stdout",
     "output_type": "stream",
     "text": [
      "Testing DataLoader 0: 100%|██████████| 7/7 [00:11<00:00,  0.59it/s]\n"
     ]
    },
    {
     "data": {
      "text/html": [
       "<pre style=\"white-space:pre;overflow-x:auto;line-height:normal;font-family:Menlo,'DejaVu Sans Mono',consolas,'Courier New',monospace\">┏━━━━━━━━━━━━━━━━━━━━━━━━━━━┳━━━━━━━━━━━━━━━━━━━━━━━━━━━┓\n",
       "┃<span style=\"font-weight: bold\">        Test metric        </span>┃<span style=\"font-weight: bold\">       DataLoader 0        </span>┃\n",
       "┡━━━━━━━━━━━━━━━━━━━━━━━━━━━╇━━━━━━━━━━━━━━━━━━━━━━━━━━━┩\n",
       "│<span style=\"color: #008080; text-decoration-color: #008080\">       test_accuracy       </span>│<span style=\"color: #800080; text-decoration-color: #800080\">    0.8585858345031738     </span>│\n",
       "│<span style=\"color: #008080; text-decoration-color: #008080\">          test_f1          </span>│<span style=\"color: #800080; text-decoration-color: #800080\">    0.8585858345031738     </span>│\n",
       "│<span style=\"color: #008080; text-decoration-color: #008080\">      test_precision       </span>│<span style=\"color: #800080; text-decoration-color: #800080\">    0.8585858345031738     </span>│\n",
       "│<span style=\"color: #008080; text-decoration-color: #008080\">        test_recall        </span>│<span style=\"color: #800080; text-decoration-color: #800080\">    0.8585858345031738     </span>│\n",
       "└───────────────────────────┴───────────────────────────┘\n",
       "</pre>\n"
      ],
      "text/plain": [
       "┏━━━━━━━━━━━━━━━━━━━━━━━━━━━┳━━━━━━━━━━━━━━━━━━━━━━━━━━━┓\n",
       "┃\u001b[1m \u001b[0m\u001b[1m       Test metric       \u001b[0m\u001b[1m \u001b[0m┃\u001b[1m \u001b[0m\u001b[1m      DataLoader 0       \u001b[0m\u001b[1m \u001b[0m┃\n",
       "┡━━━━━━━━━━━━━━━━━━━━━━━━━━━╇━━━━━━━━━━━━━━━━━━━━━━━━━━━┩\n",
       "│\u001b[36m \u001b[0m\u001b[36m      test_accuracy      \u001b[0m\u001b[36m \u001b[0m│\u001b[35m \u001b[0m\u001b[35m   0.8585858345031738    \u001b[0m\u001b[35m \u001b[0m│\n",
       "│\u001b[36m \u001b[0m\u001b[36m         test_f1         \u001b[0m\u001b[36m \u001b[0m│\u001b[35m \u001b[0m\u001b[35m   0.8585858345031738    \u001b[0m\u001b[35m \u001b[0m│\n",
       "│\u001b[36m \u001b[0m\u001b[36m     test_precision      \u001b[0m\u001b[36m \u001b[0m│\u001b[35m \u001b[0m\u001b[35m   0.8585858345031738    \u001b[0m\u001b[35m \u001b[0m│\n",
       "│\u001b[36m \u001b[0m\u001b[36m       test_recall       \u001b[0m\u001b[36m \u001b[0m│\u001b[35m \u001b[0m\u001b[35m   0.8585858345031738    \u001b[0m\u001b[35m \u001b[0m│\n",
       "└───────────────────────────┴───────────────────────────┘\n"
      ]
     },
     "metadata": {},
     "output_type": "display_data"
    },
    {
     "data": {
      "text/html": [
       "<table>\n",
       "    <thead>\n",
       "        <tr>\n",
       "            <th>Dataset</th>\n",
       "            <th>test_accuracy</th>\n",
       "            <th>test_f1</th>\n",
       "            <th>test_precision</th>\n",
       "            <th>test_recall</th>\n",
       "        </tr>\n",
       "    </thead>\n",
       "    <tbody>\n",
       "        <tr>\n",
       "            <td>fog-detection</td>\n",
       "            <td>0.8679</td>\n",
       "            <td>0.8906</td>\n",
       "            <td>0.9048</td>\n",
       "            <td>0.8769</td>\n",
       "        </tr>\n",
       "        <tr>\n",
       "            <td>fog-or-smog</td>\n",
       "            <td>0.8879</td>\n",
       "            <td>0.898</td>\n",
       "            <td>0.8481</td>\n",
       "            <td>0.9542</td>\n",
       "        </tr>\n",
       "        <tr>\n",
       "            <td>foggy-cityscapes</td>\n",
       "            <td>0.8586</td>\n",
       "            <td>0.8586</td>\n",
       "            <td>0.8586</td>\n",
       "            <td>0.8586</td>\n",
       "        </tr>\n",
       "    </tbody>\n",
       "</table>"
      ],
      "text/plain": [
       "+------------------+---------------+---------+----------------+-------------+\n",
       "|     Dataset      | test_accuracy | test_f1 | test_precision | test_recall |\n",
       "+------------------+---------------+---------+----------------+-------------+\n",
       "|  fog-detection   |     0.8679    |  0.8906 |     0.9048     |    0.8769   |\n",
       "|   fog-or-smog    |     0.8879    |  0.898  |     0.8481     |    0.9542   |\n",
       "| foggy-cityscapes |     0.8586    |  0.8586 |     0.8586     |    0.8586   |\n",
       "+------------------+---------------+---------+----------------+-------------+"
      ]
     },
     "execution_count": 10,
     "metadata": {},
     "output_type": "execute_result"
    },
    {
     "ename": "",
     "evalue": "",
     "output_type": "error",
     "traceback": [
      "\u001b[1;31mThe Kernel crashed while executing code in the current cell or a previous cell. \n",
      "\u001b[1;31mPlease review the code in the cell(s) to identify a possible cause of the failure. \n",
      "\u001b[1;31mClick <a href='https://aka.ms/vscodeJupyterKernelCrash'>here</a> for more info. \n",
      "\u001b[1;31mView Jupyter <a href='command:jupyter.viewOutput'>log</a> for further details."
     ]
    }
   ],
   "source": [
    "SAVE_DIR = Path('runs/classify/CNN-NO-PRETRAINED')\n",
    "MODEL_NAME = \"ResNet18\"\n",
    "DATASET = 'foggy-cityscapes'\n",
    "VERSION = 1\n",
    "\n",
    "trainer = L.Trainer(\n",
    "    max_epochs=10,\n",
    "    logger=L.pytorch.loggers.TensorBoardLogger(\n",
    "        save_dir=SAVE_DIR,\n",
    "        name=f\"{MODEL_NAME}-{DATASET}\",\n",
    "        version=VERSION,\n",
    "    ),\n",
    "    callbacks=[\n",
    "        L.pytorch.callbacks.early_stopping.EarlyStopping(\n",
    "            monitor=\"val_loss\", mode=\"min\",\n",
    "            patience=5,\n",
    "            verbose=False    \n",
    "        ),\n",
    "        L.pytorch.callbacks.ModelCheckpoint(\n",
    "            monitor=\"val_f1\", mode=\"max\",\n",
    "            dirpath=SAVE_DIR / f\"{MODEL_NAME}-{DATASET}\" / f\"version_{VERSION}\",\n",
    "            filename=\"{epoch}-{val_loss:.2f}-{val_f1:.2f}\"\n",
    "        )\n",
    "    ],\n",
    "    log_every_n_steps=1\n",
    ")\n",
    "\n",
    "model = CNNClassifier(\n",
    "    model_name=MODEL_NAME,\n",
    "    num_classes=2,\n",
    "    weights=False,\n",
    ")\n",
    "\n",
    "trainer.fit(\n",
    "    model,\n",
    "    train_dataloaders=get_dataloader(\n",
    "        path=DATASET_PATHS[DATASET] / 'train',\n",
    "        transform=train_transforms,\n",
    "        batch_size=32,\n",
    "        shuffle=True,\n",
    "        num_workers=11\n",
    "    ),\n",
    "    val_dataloaders=get_dataloader(\n",
    "        path=DATASET_PATHS[DATASET] / 'val',\n",
    "        transform=test_transforms,\n",
    "        batch_size=32,\n",
    "        shuffle=False,\n",
    "        num_workers=11\n",
    "    ),\n",
    ")\n",
    "\n",
    "model = CNNClassifier.load_from_checkpoint(\n",
    "    trainer.checkpoint_callbacks[0].best_model_path\n",
    ")\n",
    "\n",
    "res = {\n",
    "    dataset_name: trainer.test(model, get_dataloader(path=path / 'test', transform=test_transforms))[0]\n",
    "    for dataset_name, path in DATASET_PATHS.items()\n",
    "}\n",
    "\n",
    "table = PrettyTable()\n",
    "table.field_names = [\n",
    "    \"Dataset\", *list(next(iter(res.values())).keys())\n",
    "]\n",
    "table.add_rows([\n",
    "    [dataset, *[round(m, 4) for m in metrics.values()]] for dataset, metrics in res.items()\n",
    "])\n",
    "table"
   ]
  }
 ],
 "metadata": {
  "kernelspec": {
   "display_name": ".venv",
   "language": "python",
   "name": "python3"
  },
  "language_info": {
   "codemirror_mode": {
    "name": "ipython",
    "version": 3
   },
   "file_extension": ".py",
   "mimetype": "text/x-python",
   "name": "python",
   "nbconvert_exporter": "python",
   "pygments_lexer": "ipython3",
   "version": "3.11.11"
  }
 },
 "nbformat": 4,
 "nbformat_minor": 5
}
