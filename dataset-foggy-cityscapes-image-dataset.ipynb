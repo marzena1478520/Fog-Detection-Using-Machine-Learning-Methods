{
 "cells": [
  {
   "cell_type": "markdown",
   "metadata": {},
   "source": [
    "# Prepare dataset"
   ]
  },
  {
   "cell_type": "code",
   "execution_count": 1,
   "metadata": {},
   "outputs": [],
   "source": [
    "# We need to move files to train/val/test folders\n",
    "# So it follows YOLO format\n",
    "import os\n",
    "from sklearn.model_selection import train_test_split\n",
    "import shutil"
   ]
  },
  {
   "cell_type": "code",
   "execution_count": 2,
   "metadata": {},
   "outputs": [],
   "source": [
    "SOURCE_DIR = './datasets/foggy-cityscapes-image-dataset'\n",
    "TARGET_DIR = './datasets/foggy-cityscapes-image-dataset-yolo'"
   ]
  },
  {
   "cell_type": "code",
   "execution_count": 3,
   "metadata": {},
   "outputs": [],
   "source": [
    "def process_class(class_name, seed=42):\n",
    "    class_dir = os.path.join(SOURCE_DIR, class_name)\n",
    "    if not os.path.exists(TARGET_DIR):\n",
    "        os.makedirs(TARGET_DIR)\n",
    "    files = os.listdir(class_dir)\n",
    "    train_files, test_files = train_test_split(files, test_size=0.3, random_state=seed)\n",
    "    val_files, test_files = train_test_split(test_files, test_size=0.66, random_state=seed)\n",
    "    # Create folders if missing\n",
    "    for folder in ['train', 'val', 'test']:\n",
    "        folder_path = os.path.join(TARGET_DIR, folder, class_name)\n",
    "        os.makedirs(folder_path, exist_ok=True)\n",
    "    # Move files\n",
    "    for file in train_files:\n",
    "        shutil.copyfile(os.path.join(class_dir, file), os.path.join(TARGET_DIR, 'train', class_name, file))\n",
    "    for file in val_files:\n",
    "        shutil.copyfile(os.path.join(class_dir, file), os.path.join(TARGET_DIR, 'val', class_name, file))\n",
    "    for file in test_files:\n",
    "        shutil.copyfile(os.path.join(class_dir, file), os.path.join(TARGET_DIR, 'test', class_name, file))"
   ]
  },
  {
   "cell_type": "code",
   "execution_count": 4,
   "metadata": {},
   "outputs": [],
   "source": [
    "for class_name in os.listdir(SOURCE_DIR):\n",
    "    process_class(class_name, seed=42)"
   ]
  },
  {
   "cell_type": "markdown",
   "metadata": {},
   "source": [
    "# YOLO"
   ]
  },
  {
   "cell_type": "code",
   "execution_count": 5,
   "metadata": {},
   "outputs": [],
   "source": [
    "from ultralytics import YOLO\n",
    "from pathlib import Path"
   ]
  },
  {
   "cell_type": "code",
   "execution_count": 6,
   "metadata": {},
   "outputs": [],
   "source": [
    "model_path = Path(\"./weights/yolo/yolo11n-cls.pt\")\n",
    "model_path = str(model_path.resolve())\n",
    "\n",
    "data_path = Path(TARGET_DIR)\n",
    "data_path = str(data_path.resolve())"
   ]
  },
  {
   "cell_type": "code",
   "execution_count": 7,
   "metadata": {},
   "outputs": [
    {
     "name": "stdout",
     "output_type": "stream",
     "text": [
      "Ultralytics 8.3.86 🚀 Python-3.11.11 torch-2.6.0+cu124 CUDA:0 (NVIDIA GeForce RTX 2070 Super, 8192MiB)\n",
      "\u001b[34m\u001b[1mengine/trainer: \u001b[0mtask=classify, mode=train, model=/home/next/magisterka/weights/yolo/yolo11n-cls.pt, data=/home/next/magisterka/datasets/foggy-cityscapes-image-dataset-yolo, epochs=10, time=None, patience=100, batch=16, imgsz=224, save=True, save_period=-1, cache=False, device=None, workers=8, project=None, name=foggy-cityscapes-image-dataset-yolo11n, exist_ok=False, pretrained=True, optimizer=auto, verbose=True, seed=0, deterministic=True, single_cls=False, rect=False, cos_lr=False, close_mosaic=10, resume=False, amp=True, fraction=1.0, profile=False, freeze=None, multi_scale=False, overlap_mask=True, mask_ratio=4, dropout=0.0, val=True, split=val, save_json=False, save_hybrid=False, conf=None, iou=0.7, max_det=300, half=False, dnn=False, plots=True, source=None, vid_stride=1, stream_buffer=False, visualize=False, augment=False, agnostic_nms=False, classes=None, retina_masks=False, embed=None, show=False, save_frames=False, save_txt=False, save_conf=False, save_crop=False, show_labels=True, show_conf=True, show_boxes=True, line_width=None, format=torchscript, keras=False, optimize=False, int8=False, dynamic=False, simplify=True, opset=None, workspace=None, nms=False, lr0=0.01, lrf=0.01, momentum=0.937, weight_decay=0.0005, warmup_epochs=3.0, warmup_momentum=0.8, warmup_bias_lr=0.1, box=7.5, cls=0.5, dfl=1.5, pose=12.0, kobj=1.0, nbs=64, hsv_h=0.015, hsv_s=0.7, hsv_v=0.4, degrees=0.0, translate=0.1, scale=0.5, shear=0.0, perspective=0.0, flipud=0.0, fliplr=0.5, bgr=0.0, mosaic=1.0, mixup=0.0, copy_paste=0.0, copy_paste_mode=flip, auto_augment=randaugment, erasing=0.4, crop_fraction=1.0, cfg=None, tracker=botsort.yaml, save_dir=/home/next/magisterka/runs/classify/foggy-cityscapes-image-dataset-yolo11n\n",
      "\u001b[34m\u001b[1mtrain:\u001b[0m /home/next/magisterka/datasets/foggy-cityscapes-image-dataset-yolo/train... found 1050 images in 3 classes ✅ \n",
      "\u001b[34m\u001b[1mval:\u001b[0m /home/next/magisterka/datasets/foggy-cityscapes-image-dataset-yolo/val... found 153 images in 3 classes ✅ \n",
      "\u001b[34m\u001b[1mtest:\u001b[0m /home/next/magisterka/datasets/foggy-cityscapes-image-dataset-yolo/test... found 297 images in 3 classes ✅ \n",
      "Overriding model.yaml nc=80 with nc=3\n",
      "\n",
      "                   from  n    params  module                                       arguments                     \n",
      "  0                  -1  1       464  ultralytics.nn.modules.conv.Conv             [3, 16, 3, 2]                 \n",
      "  1                  -1  1      4672  ultralytics.nn.modules.conv.Conv             [16, 32, 3, 2]                \n",
      "  2                  -1  1      6640  ultralytics.nn.modules.block.C3k2            [32, 64, 1, False, 0.25]      \n",
      "  3                  -1  1     36992  ultralytics.nn.modules.conv.Conv             [64, 64, 3, 2]                \n",
      "  4                  -1  1     26080  ultralytics.nn.modules.block.C3k2            [64, 128, 1, False, 0.25]     \n",
      "  5                  -1  1    147712  ultralytics.nn.modules.conv.Conv             [128, 128, 3, 2]              \n",
      "  6                  -1  1     87040  ultralytics.nn.modules.block.C3k2            [128, 128, 1, True]           \n",
      "  7                  -1  1    295424  ultralytics.nn.modules.conv.Conv             [128, 256, 3, 2]              \n",
      "  8                  -1  1    346112  ultralytics.nn.modules.block.C3k2            [256, 256, 1, True]           \n",
      "  9                  -1  1    249728  ultralytics.nn.modules.block.C2PSA           [256, 256, 1]                 \n",
      " 10                  -1  1    334083  ultralytics.nn.modules.head.Classify         [256, 3]                      \n",
      "YOLO11n-cls summary: 86 layers, 1,534,947 parameters, 1,534,947 gradients, 3.3 GFLOPs\n",
      "Transferred 234/236 items from pretrained weights\n",
      "\u001b[34m\u001b[1mAMP: \u001b[0mrunning Automatic Mixed Precision (AMP) checks...\n",
      "Downloading https://github.com/ultralytics/assets/releases/download/v8.3.0/yolo11n.pt to 'yolo11n.pt'...\n"
     ]
    },
    {
     "name": "stderr",
     "output_type": "stream",
     "text": [
      "100%|██████████| 5.35M/5.35M [00:00<00:00, 16.6MB/s]\n"
     ]
    },
    {
     "name": "stdout",
     "output_type": "stream",
     "text": [
      "\u001b[34m\u001b[1mAMP: \u001b[0mchecks passed ✅\n"
     ]
    },
    {
     "name": "stderr",
     "output_type": "stream",
     "text": [
      "\u001b[34m\u001b[1mtrain: \u001b[0mScanning /home/next/magisterka/datasets/foggy-cityscapes-image-dataset-yolo/train... 1050 images, 0 corrupt: 100%|██████████| 1050/1050 [00:42<00:00, 24.58it/s]"
     ]
    },
    {
     "name": "stdout",
     "output_type": "stream",
     "text": [
      "\u001b[34m\u001b[1mtrain: \u001b[0mNew cache created: /home/next/magisterka/datasets/foggy-cityscapes-image-dataset-yolo/train.cache\n"
     ]
    },
    {
     "name": "stderr",
     "output_type": "stream",
     "text": [
      "\n",
      "\u001b[34m\u001b[1mval: \u001b[0mScanning /home/next/magisterka/datasets/foggy-cityscapes-image-dataset-yolo/val... 153 images, 0 corrupt: 100%|██████████| 153/153 [00:03<00:00, 40.47it/s]"
     ]
    },
    {
     "name": "stdout",
     "output_type": "stream",
     "text": [
      "\u001b[34m\u001b[1mval: \u001b[0mNew cache created: /home/next/magisterka/datasets/foggy-cityscapes-image-dataset-yolo/val.cache\n"
     ]
    },
    {
     "name": "stderr",
     "output_type": "stream",
     "text": [
      "\n"
     ]
    },
    {
     "name": "stdout",
     "output_type": "stream",
     "text": [
      "\u001b[34m\u001b[1moptimizer:\u001b[0m 'optimizer=auto' found, ignoring 'lr0=0.01' and 'momentum=0.937' and determining best 'optimizer', 'lr0' and 'momentum' automatically... \n",
      "\u001b[34m\u001b[1moptimizer:\u001b[0m AdamW(lr=0.001429, momentum=0.9) with parameter groups 39 weight(decay=0.0), 40 weight(decay=0.0005), 40 bias(decay=0.0)\n",
      "Image sizes 224 train, 224 val\n",
      "Using 8 dataloader workers\n",
      "Logging results to \u001b[1m/home/next/magisterka/runs/classify/foggy-cityscapes-image-dataset-yolo11n\u001b[0m\n",
      "Starting training for 10 epochs...\n",
      "\n",
      "      Epoch    GPU_mem       loss  Instances       Size\n"
     ]
    },
    {
     "name": "stderr",
     "output_type": "stream",
     "text": [
      "       1/10      0.26G     0.9625         10        224: 100%|██████████| 66/66 [00:22<00:00,  2.92it/s]\n",
      "               classes   top1_acc   top5_acc: 100%|██████████| 5/5 [00:00<00:00, 14.04it/s]"
     ]
    },
    {
     "name": "stdout",
     "output_type": "stream",
     "text": [
      "                   all       0.66          1\n"
     ]
    },
    {
     "name": "stderr",
     "output_type": "stream",
     "text": [
      "\n"
     ]
    },
    {
     "name": "stdout",
     "output_type": "stream",
     "text": [
      "\n",
      "      Epoch    GPU_mem       loss  Instances       Size\n"
     ]
    },
    {
     "name": "stderr",
     "output_type": "stream",
     "text": [
      "       2/10      0.25G     0.7338         10        224: 100%|██████████| 66/66 [00:14<00:00,  4.59it/s]\n",
      "               classes   top1_acc   top5_acc: 100%|██████████| 5/5 [00:00<00:00, 25.96it/s]"
     ]
    },
    {
     "name": "stdout",
     "output_type": "stream",
     "text": [
      "                   all      0.477          1\n"
     ]
    },
    {
     "name": "stderr",
     "output_type": "stream",
     "text": [
      "\n"
     ]
    },
    {
     "name": "stdout",
     "output_type": "stream",
     "text": [
      "\n",
      "      Epoch    GPU_mem       loss  Instances       Size\n"
     ]
    },
    {
     "name": "stderr",
     "output_type": "stream",
     "text": [
      "       3/10      0.25G     0.6862         10        224: 100%|██████████| 66/66 [00:15<00:00,  4.29it/s]\n",
      "               classes   top1_acc   top5_acc: 100%|██████████| 5/5 [00:00<00:00, 26.83it/s]"
     ]
    },
    {
     "name": "stdout",
     "output_type": "stream",
     "text": [
      "                   all      0.745          1\n"
     ]
    },
    {
     "name": "stderr",
     "output_type": "stream",
     "text": [
      "\n"
     ]
    },
    {
     "name": "stdout",
     "output_type": "stream",
     "text": [
      "\n",
      "      Epoch    GPU_mem       loss  Instances       Size\n"
     ]
    },
    {
     "name": "stderr",
     "output_type": "stream",
     "text": [
      "       4/10      0.25G     0.5693         10        224: 100%|██████████| 66/66 [00:16<00:00,  4.02it/s]\n",
      "               classes   top1_acc   top5_acc: 100%|██████████| 5/5 [00:00<00:00, 30.18it/s]\n"
     ]
    },
    {
     "name": "stdout",
     "output_type": "stream",
     "text": [
      "                   all      0.902          1\n",
      "\n",
      "      Epoch    GPU_mem       loss  Instances       Size\n"
     ]
    },
    {
     "name": "stderr",
     "output_type": "stream",
     "text": [
      "       5/10      0.25G     0.5253         10        224: 100%|██████████| 66/66 [00:14<00:00,  4.56it/s]\n",
      "               classes   top1_acc   top5_acc: 100%|██████████| 5/5 [00:00<00:00, 21.82it/s]"
     ]
    },
    {
     "name": "stdout",
     "output_type": "stream",
     "text": [
      "                   all      0.824          1\n"
     ]
    },
    {
     "name": "stderr",
     "output_type": "stream",
     "text": [
      "\n"
     ]
    },
    {
     "name": "stdout",
     "output_type": "stream",
     "text": [
      "\n",
      "      Epoch    GPU_mem       loss  Instances       Size\n"
     ]
    },
    {
     "name": "stderr",
     "output_type": "stream",
     "text": [
      "       6/10      0.25G     0.5476         10        224: 100%|██████████| 66/66 [00:15<00:00,  4.22it/s]\n",
      "               classes   top1_acc   top5_acc: 100%|██████████| 5/5 [00:00<00:00, 30.10it/s]"
     ]
    },
    {
     "name": "stdout",
     "output_type": "stream",
     "text": [
      "                   all      0.837          1\n"
     ]
    },
    {
     "name": "stderr",
     "output_type": "stream",
     "text": [
      "\n"
     ]
    },
    {
     "name": "stdout",
     "output_type": "stream",
     "text": [
      "\n",
      "      Epoch    GPU_mem       loss  Instances       Size\n"
     ]
    },
    {
     "name": "stderr",
     "output_type": "stream",
     "text": [
      "       7/10      0.25G     0.4147         10        224: 100%|██████████| 66/66 [00:14<00:00,  4.60it/s]\n",
      "               classes   top1_acc   top5_acc: 100%|██████████| 5/5 [00:00<00:00, 14.44it/s]"
     ]
    },
    {
     "name": "stdout",
     "output_type": "stream",
     "text": [
      "                   all      0.739          1\n"
     ]
    },
    {
     "name": "stderr",
     "output_type": "stream",
     "text": [
      "\n"
     ]
    },
    {
     "name": "stdout",
     "output_type": "stream",
     "text": [
      "\n",
      "      Epoch    GPU_mem       loss  Instances       Size\n"
     ]
    },
    {
     "name": "stderr",
     "output_type": "stream",
     "text": [
      "       8/10      0.25G     0.3885         10        224: 100%|██████████| 66/66 [00:16<00:00,  3.91it/s]\n",
      "               classes   top1_acc   top5_acc: 100%|██████████| 5/5 [00:00<00:00, 23.71it/s]"
     ]
    },
    {
     "name": "stdout",
     "output_type": "stream",
     "text": [
      "                   all      0.876          1\n"
     ]
    },
    {
     "name": "stderr",
     "output_type": "stream",
     "text": [
      "\n"
     ]
    },
    {
     "name": "stdout",
     "output_type": "stream",
     "text": [
      "\n",
      "      Epoch    GPU_mem       loss  Instances       Size\n"
     ]
    },
    {
     "name": "stderr",
     "output_type": "stream",
     "text": [
      "       9/10      0.25G     0.3447         10        224: 100%|██████████| 66/66 [00:14<00:00,  4.40it/s]\n",
      "               classes   top1_acc   top5_acc: 100%|██████████| 5/5 [00:00<00:00, 37.24it/s]"
     ]
    },
    {
     "name": "stdout",
     "output_type": "stream",
     "text": [
      "                   all      0.902          1\n"
     ]
    },
    {
     "name": "stderr",
     "output_type": "stream",
     "text": [
      "\n"
     ]
    },
    {
     "name": "stdout",
     "output_type": "stream",
     "text": [
      "\n",
      "      Epoch    GPU_mem       loss  Instances       Size\n"
     ]
    },
    {
     "name": "stderr",
     "output_type": "stream",
     "text": [
      "      10/10      0.25G     0.3206         10        224: 100%|██████████| 66/66 [00:15<00:00,  4.28it/s]\n",
      "               classes   top1_acc   top5_acc: 100%|██████████| 5/5 [00:00<00:00, 28.50it/s]"
     ]
    },
    {
     "name": "stdout",
     "output_type": "stream",
     "text": [
      "                   all      0.817          1\n"
     ]
    },
    {
     "name": "stderr",
     "output_type": "stream",
     "text": [
      "\n"
     ]
    },
    {
     "name": "stdout",
     "output_type": "stream",
     "text": [
      "\n",
      "10 epochs completed in 0.047 hours.\n",
      "Optimizer stripped from /home/next/magisterka/runs/classify/foggy-cityscapes-image-dataset-yolo11n/weights/last.pt, 3.2MB\n",
      "Optimizer stripped from /home/next/magisterka/runs/classify/foggy-cityscapes-image-dataset-yolo11n/weights/best.pt, 3.2MB\n",
      "\n",
      "Validating /home/next/magisterka/runs/classify/foggy-cityscapes-image-dataset-yolo11n/weights/best.pt...\n",
      "Ultralytics 8.3.86 🚀 Python-3.11.11 torch-2.6.0+cu124 CUDA:0 (NVIDIA GeForce RTX 2070 Super, 8192MiB)\n",
      "YOLO11n-cls summary (fused): 47 layers, 1,529,867 parameters, 0 gradients, 3.2 GFLOPs\n",
      "\u001b[34m\u001b[1mtrain:\u001b[0m /home/next/magisterka/datasets/foggy-cityscapes-image-dataset-yolo/train... found 1050 images in 3 classes ✅ \n",
      "\u001b[34m\u001b[1mval:\u001b[0m /home/next/magisterka/datasets/foggy-cityscapes-image-dataset-yolo/val... found 153 images in 3 classes ✅ \n",
      "\u001b[34m\u001b[1mtest:\u001b[0m /home/next/magisterka/datasets/foggy-cityscapes-image-dataset-yolo/test... found 297 images in 3 classes ✅ \n"
     ]
    },
    {
     "name": "stderr",
     "output_type": "stream",
     "text": [
      "               classes   top1_acc   top5_acc: 100%|██████████| 5/5 [00:00<00:00,  8.21it/s]\n"
     ]
    },
    {
     "name": "stdout",
     "output_type": "stream",
     "text": [
      "                   all      0.902          1\n",
      "Speed: 0.3ms preprocess, 2.2ms inference, 0.0ms loss, 0.0ms postprocess per image\n",
      "Results saved to \u001b[1m/home/next/magisterka/runs/classify/foggy-cityscapes-image-dataset-yolo11n\u001b[0m\n"
     ]
    }
   ],
   "source": [
    "model = YOLO(model_path)\n",
    "results = model.train(\n",
    "    data=data_path,\n",
    "    name=\"foggy-cityscapes-image-dataset-yolo11n\",\n",
    "    epochs=10,\n",
    ")"
   ]
  }
 ],
 "metadata": {
  "kernelspec": {
   "display_name": ".venv",
   "language": "python",
   "name": "python3"
  },
  "language_info": {
   "codemirror_mode": {
    "name": "ipython",
    "version": 3
   },
   "file_extension": ".py",
   "mimetype": "text/x-python",
   "name": "python",
   "nbconvert_exporter": "python",
   "pygments_lexer": "ipython3",
   "version": "3.11.11"
  }
 },
 "nbformat": 4,
 "nbformat_minor": 2
}
