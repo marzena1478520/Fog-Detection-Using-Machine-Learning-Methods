{
 "cells": [
  {
   "cell_type": "code",
   "execution_count": 11,
   "id": "9f3d050c",
   "metadata": {},
   "outputs": [],
   "source": [
    "import os\n",
    "from pathlib import Path\n",
    "from PIL import Image\n",
    "from typing import Any\n",
    "\n",
    "from prettytable import PrettyTable\n",
    "import skimage as ski\n",
    "import lightning as L\n",
    "import torch\n",
    "import torch.nn as nn\n",
    "import torch.optim as optim\n",
    "from torch.utils.data import DataLoader\n",
    "from torchvision.models import get_model, get_weight\n",
    "from torchvision.datasets import DatasetFolder"
   ]
  },
  {
   "cell_type": "markdown",
   "id": "d096c65a",
   "metadata": {},
   "source": [
    "# Setup"
   ]
  },
  {
   "cell_type": "code",
   "execution_count": 9,
   "id": "504d7a62",
   "metadata": {},
   "outputs": [],
   "source": [
    "DATASET_PATHS = {\n",
    "    'fog-detection': Path('./datasets/fog-detection-dataset-prepared'),\n",
    "    'fog-or-smog': Path('./datasets/fog-or-smog-detection-dataset-prepared'),\n",
    "    'foggy-cityscapes': Path('./datasets/foggy-cityscapes-image-dataset-prepared')\n",
    "}"
   ]
  },
  {
   "cell_type": "code",
   "execution_count": null,
   "id": "bfb3fda0",
   "metadata": {},
   "outputs": [],
   "source": [
    "def load_image(path: str):\n",
    "    img = ski.io.imread(path)\n",
    "    if img.ndim == 2:  # Handle grayscale\n",
    "        img = ski.color.gray2rgb(img)\n",
    "    if img.shape[-1] == 4:  # Handle RGBA\n",
    "        img = ski.color.rgba2rgb(img)\n",
    "    img = ski.util.img_as_ubyte(img)\n",
    "    return Image.fromarray(img)\n",
    "\n",
    "\n",
    "def get_dataloader(\n",
    "    path: Path | str,\n",
    "    transform: callable | None = None,\n",
    "    batch_size: int = 32,\n",
    "    shuffle: bool = False,\n",
    "    num_workers: int = 0,\n",
    "    pin_memory: bool = True,\n",
    "):\n",
    "    return DataLoader(\n",
    "        dataset=DatasetFolder(\n",
    "            root=path,\n",
    "            loader=load_image,\n",
    "            extensions=[\".jpg\", \".png\", \".jpeg\"],\n",
    "            transform=transform,\n",
    "        ),\n",
    "        batch_size=batch_size,\n",
    "        shuffle=shuffle,\n",
    "        num_workers=num_workers,\n",
    "        pin_memory=pin_memory,\n",
    "        persistent_workers=True if num_workers > 0 else False,\n",
    "    )"
   ]
  },
  {
   "cell_type": "code",
   "execution_count": 12,
   "id": "17646daa",
   "metadata": {},
   "outputs": [],
   "source": [
    "def recursive_getattr(obj: object, name: str):\n",
    "    names = name.split(\".\")\n",
    "    for name in names:\n",
    "        obj = getattr(obj, name)\n",
    "    return obj\n",
    "\n",
    "def recursive_setattr(obj: object, value: Any, name: str):\n",
    "    names = name.split(\".\")\n",
    "    for name in names[:-1]:\n",
    "        obj = getattr(obj, name)\n",
    "    setattr(obj, names[-1], value)"
   ]
  },
  {
   "cell_type": "markdown",
   "id": "cd447779",
   "metadata": {},
   "source": [
    "# Training"
   ]
  },
  {
   "cell_type": "code",
   "execution_count": null,
   "id": "92d17c17",
   "metadata": {},
   "outputs": [],
   "source": [
    "SAVE_DIR = Path('runs/classify/CNN')\n",
    "MODEL_NAME = \"ResNet18\"\n",
    "DATASET = 'fog-or-smog'\n",
    "VERSION = 1\n",
    "\n",
    "trainer = L.Trainer(\n",
    "    max_epochs=10,\n",
    "    logger=L.pytorch.loggers.TensorBoardLogger(\n",
    "        save_dir=SAVE_DIR,\n",
    "        name=f\"MODEL_NAME-{DATASET}\",\n",
    "        version=VERSION,\n",
    "    ),\n",
    "    callbacks=[\n",
    "        L.pytorch.callbacks.early_stopping.EarlyStopping(\n",
    "            monitor=\"val_loss\", mode=\"min\",\n",
    "            patience=5,\n",
    "            verbose=False    \n",
    "        ),\n",
    "        L.pytorch.callbacks.ModelCheckpoint(\n",
    "            monitor=\"val_f1\", mode=\"max\",\n",
    "            dirpath=SAVE_DIR / MODEL_NAME / f\"version_{VERSION}\",\n",
    "            filename=\"{epoch}-{val_loss:.2f}-{val_f1:.2f}\"\n",
    "        )\n",
    "    ],\n",
    "    log_every_n_steps=1\n",
    ")\n",
    "\n",
    "model = CNNClassifier(\n",
    "    model_name=MODEL_NAME,\n",
    "    num_classes=2,\n",
    "    weights=f\"{MODEL_NAME}_Weights.DEFAULT\",\n",
    "    dataset_path=DATASET_PATHS[DATASET],\n",
    "    num_workers=11\n",
    ")\n",
    "\n",
    "trainer.fit(\n",
    "    model\n",
    ")\n",
    "\n",
    "model = CNNClassifier.load_from_checkpoint(\n",
    "    trainer.checkpoint_callbacks[0].best_model_path\n",
    ")\n",
    "\n",
    "_transform = get_weight(model.weights).transforms()\n",
    "res = {\n",
    "    dataset_path: trainer.test(model, get_dataloader(dataset_path=path / 'test', transform=_transform))[0]\n",
    "    for dataset_path, path in DATASET_PATHS.items()\n",
    "}\n",
    "\n",
    "table = PrettyTable()\n",
    "table.field_names = [\n",
    "    \"Dataset\", *list(next(iter(res.values())).keys())\n",
    "]\n",
    "table.add_rows([\n",
    "    [dataset, *[round(m, 4) for m in metrics.values()]] for dataset, metrics in res.items()\n",
    "])\n",
    "table"
   ]
  }
 ],
 "metadata": {
  "kernelspec": {
   "display_name": ".venv",
   "language": "python",
   "name": "python3"
  },
  "language_info": {
   "codemirror_mode": {
    "name": "ipython",
    "version": 3
   },
   "file_extension": ".py",
   "mimetype": "text/x-python",
   "name": "python",
   "nbconvert_exporter": "python",
   "pygments_lexer": "ipython3",
   "version": "3.11.11"
  }
 },
 "nbformat": 4,
 "nbformat_minor": 5
}
